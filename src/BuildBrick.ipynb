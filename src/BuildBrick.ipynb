{
 "cells": [
  {
   "cell_type": "markdown",
   "metadata": {},
   "source": [
    "# Creates Brick\n",
    "\n",
    "The notebook generates a brick ontology from the 'Tags.csv' and 'TagSets.csv' files."
   ]
  },
  {
   "cell_type": "code",
   "execution_count": 1,
   "metadata": {
    "collapsed": false
   },
   "outputs": [],
   "source": [
    "#!pip install rdflib\n",
    "#!pip install pydot2\n",
    "#!pip install pydotplus"
   ]
  },
  {
   "cell_type": "code",
   "execution_count": 2,
   "metadata": {
    "collapsed": false
   },
   "outputs": [],
   "source": [
    "import rdflib\n",
    "from rdflib.namespace import RDFS\n",
    "from rdflib import URIRef, BNode, Literal\n",
    "import re\n",
    "from collections import defaultdict\n",
    "import numpy as np\n",
    "import pandas as pd\n",
    "import json"
   ]
  },
  {
   "cell_type": "code",
   "execution_count": 3,
   "metadata": {
    "collapsed": false
   },
   "outputs": [],
   "source": [
    "createEquipmentTagSets=True\n",
    "setEquivalent=False\n",
    "usedMeasOnly=True\n",
    "writeUsedByPoint=False\n",
    "writeTagUsedBy=True\n",
    "removeSynonyms=False"
   ]
  },
  {
   "cell_type": "code",
   "execution_count": 4,
   "metadata": {
    "collapsed": false
   },
   "outputs": [],
   "source": [
    "def ns(url):\n",
    "  url = url.replace(\"http://buildsys.org/ontologies/brick#\", \"\")\n",
    "  url = url.replace(\"http://buildsys.org/ontologies/brickFrame#\", \"\")\n",
    "  return url"
   ]
  },
  {
   "cell_type": "code",
   "execution_count": 5,
   "metadata": {
    "collapsed": true
   },
   "outputs": [],
   "source": [
    "def IndivName(name):\n",
    "  return re.sub(r'\\s','_',re.sub(r'[^\\d\\w\\s]', '', name))"
   ]
  },
  {
   "cell_type": "code",
   "execution_count": 6,
   "metadata": {
    "collapsed": true
   },
   "outputs": [],
   "source": [
    "def getStr(s):\n",
    "  #if type(s)==str or type(s)==unicode:\n",
    "  if type(s)=='str' or type(s)=='unicode':\n",
    "    return s\n",
    "  else:\n",
    "    return ''"
   ]
  },
  {
   "cell_type": "markdown",
   "metadata": {},
   "source": [
    "### Load Tag and TagSets from Definition"
   ]
  },
  {
   "cell_type": "code",
   "execution_count": 7,
   "metadata": {
    "collapsed": true
   },
   "outputs": [],
   "source": [
    "#r = requests.get('docs.google.com/feeds/download/spreadsheets/Export?key=1QTSu0UxJ7UqRvgTW2P1Q4qudoBbvPqXpEhYiulyjcro&exportFormat=xlsx')\n",
    "#r.status_code"
   ]
  },
  {
   "cell_type": "code",
   "execution_count": 8,
   "metadata": {
    "collapsed": false
   },
   "outputs": [
    {
     "data": {
      "text/html": [
       "<div>\n",
       "<table border=\"1\" class=\"dataframe\">\n",
       "  <thead>\n",
       "    <tr style=\"text-align: right;\">\n",
       "      <th></th>\n",
       "      <th>Dimension</th>\n",
       "      <th>Tag</th>\n",
       "      <th>Definition</th>\n",
       "      <th>Related Terminologies</th>\n",
       "      <th>hasSynonym</th>\n",
       "      <th>Author</th>\n",
       "      <th>Reviewed</th>\n",
       "      <th>Review Count</th>\n",
       "      <th>Comments</th>\n",
       "    </tr>\n",
       "  </thead>\n",
       "  <tbody>\n",
       "    <tr>\n",
       "      <th>0</th>\n",
       "      <td>Equipment</td>\n",
       "      <td>HX</td>\n",
       "      <td>Heat Exchanger</td>\n",
       "      <td>NaN</td>\n",
       "      <td>NaN</td>\n",
       "      <td>NaN</td>\n",
       "      <td>NaN</td>\n",
       "      <td>NaN</td>\n",
       "      <td>NaN</td>\n",
       "    </tr>\n",
       "    <tr>\n",
       "      <th>1</th>\n",
       "      <td>Equipment</td>\n",
       "      <td>FCP</td>\n",
       "      <td>Fire Control Panel</td>\n",
       "      <td>NaN</td>\n",
       "      <td>NaN</td>\n",
       "      <td>NaN</td>\n",
       "      <td>NaN</td>\n",
       "      <td>NaN</td>\n",
       "      <td>NaN</td>\n",
       "    </tr>\n",
       "    <tr>\n",
       "      <th>2</th>\n",
       "      <td>Equipment</td>\n",
       "      <td>CWS</td>\n",
       "      <td>Chilled Water System</td>\n",
       "      <td>NaN</td>\n",
       "      <td>NaN</td>\n",
       "      <td>NaN</td>\n",
       "      <td>NaN</td>\n",
       "      <td>NaN</td>\n",
       "      <td>NaN</td>\n",
       "    </tr>\n",
       "    <tr>\n",
       "      <th>3</th>\n",
       "      <td>Equipment</td>\n",
       "      <td>DHWS</td>\n",
       "      <td>Domestic Hot Water System</td>\n",
       "      <td>NaN</td>\n",
       "      <td>NaN</td>\n",
       "      <td>NaN</td>\n",
       "      <td>NaN</td>\n",
       "      <td>NaN</td>\n",
       "      <td>NaN</td>\n",
       "    </tr>\n",
       "    <tr>\n",
       "      <th>4</th>\n",
       "      <td>Equipment</td>\n",
       "      <td>HWS</td>\n",
       "      <td>Hot Water System</td>\n",
       "      <td>NaN</td>\n",
       "      <td>NaN</td>\n",
       "      <td>NaN</td>\n",
       "      <td>NaN</td>\n",
       "      <td>NaN</td>\n",
       "      <td>NaN</td>\n",
       "    </tr>\n",
       "  </tbody>\n",
       "</table>\n",
       "</div>"
      ],
      "text/plain": [
       "   Dimension   Tag                 Definition Related Terminologies  \\\n",
       "0  Equipment    HX             Heat Exchanger                   NaN   \n",
       "1  Equipment   FCP         Fire Control Panel                   NaN   \n",
       "2  Equipment   CWS       Chilled Water System                   NaN   \n",
       "3  Equipment  DHWS  Domestic Hot Water System                   NaN   \n",
       "4  Equipment   HWS           Hot Water System                   NaN   \n",
       "\n",
       "  hasSynonym Author  Reviewed  Review Count Comments  \n",
       "0        NaN    NaN       NaN           NaN      NaN  \n",
       "1        NaN    NaN       NaN           NaN      NaN  \n",
       "2        NaN    NaN       NaN           NaN      NaN  \n",
       "3        NaN    NaN       NaN           NaN      NaN  \n",
       "4        NaN    NaN       NaN           NaN      NaN  "
      ]
     },
     "execution_count": 8,
     "metadata": {},
     "output_type": "execute_result"
    }
   ],
   "source": [
    "#dfTags=pd.read_excel('Schema Engineering.xlsx',\"Tags\")\n",
    "dfTags=pd.read_csv('Tags.csv')\n",
    "schemaTags=set(pd.unique(dfTags.Tag.dropna().ravel()))\n",
    "len(schemaTags)\n",
    "dfTags.head()"
   ]
  },
  {
   "cell_type": "code",
   "execution_count": 9,
   "metadata": {
    "collapsed": false
   },
   "outputs": [
    {
     "data": {
      "text/html": [
       "<div>\n",
       "<table border=\"1\" class=\"dataframe\">\n",
       "  <thead>\n",
       "    <tr style=\"text-align: right;\">\n",
       "      <th></th>\n",
       "      <th>Dimension</th>\n",
       "      <th>TagSet</th>\n",
       "      <th>Definition</th>\n",
       "      <th>Reference</th>\n",
       "      <th>TagSet Decomposition</th>\n",
       "      <th>usesEquipment</th>\n",
       "      <th>isPartOf</th>\n",
       "      <th>hasSynonym</th>\n",
       "      <th>hasUnit</th>\n",
       "      <th>hasAbbreviation</th>\n",
       "      <th>can be named? (can be instantiated?)</th>\n",
       "      <th>can be unnamed? (cannot be instantiated?)</th>\n",
       "      <th>Author</th>\n",
       "      <th>Reviewed</th>\n",
       "      <th>Review Count</th>\n",
       "      <th>Discussion</th>\n",
       "      <th>usesPoint</th>\n",
       "      <th>usesLocation</th>\n",
       "      <th>usesMeasurement</th>\n",
       "    </tr>\n",
       "  </thead>\n",
       "  <tbody>\n",
       "    <tr>\n",
       "      <th>0</th>\n",
       "      <td>Equipment</td>\n",
       "      <td>Elevator</td>\n",
       "      <td>NaN</td>\n",
       "      <td>NaN</td>\n",
       "      <td>NaN</td>\n",
       "      <td>NaN</td>\n",
       "      <td>NaN</td>\n",
       "      <td>NaN</td>\n",
       "      <td>NaN</td>\n",
       "      <td>NaN</td>\n",
       "      <td>NaN</td>\n",
       "      <td>NaN</td>\n",
       "      <td>NaN</td>\n",
       "      <td>NaN</td>\n",
       "      <td>NaN</td>\n",
       "      <td>NaN</td>\n",
       "      <td>NaN</td>\n",
       "      <td>NaN</td>\n",
       "      <td>NaN</td>\n",
       "    </tr>\n",
       "    <tr>\n",
       "      <th>1</th>\n",
       "      <td>Equipment</td>\n",
       "      <td>Energy Storage</td>\n",
       "      <td>System that captures of energy produced at one...</td>\n",
       "      <td>https://en.wikipedia.org/wiki/Energy_storage</td>\n",
       "      <td>NaN</td>\n",
       "      <td>NaN</td>\n",
       "      <td>NaN</td>\n",
       "      <td>NaN</td>\n",
       "      <td>NaN</td>\n",
       "      <td>NaN</td>\n",
       "      <td>NaN</td>\n",
       "      <td>NaN</td>\n",
       "      <td>NaN</td>\n",
       "      <td>NaN</td>\n",
       "      <td>NaN</td>\n",
       "      <td>NaN</td>\n",
       "      <td>NaN</td>\n",
       "      <td>NaN</td>\n",
       "      <td>NaN</td>\n",
       "    </tr>\n",
       "    <tr>\n",
       "      <th>2</th>\n",
       "      <td>Equipment</td>\n",
       "      <td>Fire Safety System</td>\n",
       "      <td>NaN</td>\n",
       "      <td>NaN</td>\n",
       "      <td>NaN</td>\n",
       "      <td>NaN</td>\n",
       "      <td>NaN</td>\n",
       "      <td>NaN</td>\n",
       "      <td>NaN</td>\n",
       "      <td>NaN</td>\n",
       "      <td>NaN</td>\n",
       "      <td>NaN</td>\n",
       "      <td>NaN</td>\n",
       "      <td>NaN</td>\n",
       "      <td>NaN</td>\n",
       "      <td>NaN</td>\n",
       "      <td>NaN</td>\n",
       "      <td>NaN</td>\n",
       "      <td>NaN</td>\n",
       "    </tr>\n",
       "    <tr>\n",
       "      <th>3</th>\n",
       "      <td>Equipment</td>\n",
       "      <td>Heating Ventilation Air Conditioning System</td>\n",
       "      <td>NaN</td>\n",
       "      <td>NaN</td>\n",
       "      <td>NaN</td>\n",
       "      <td>NaN</td>\n",
       "      <td>NaN</td>\n",
       "      <td>HVAC</td>\n",
       "      <td>NaN</td>\n",
       "      <td>NaN</td>\n",
       "      <td>NaN</td>\n",
       "      <td>NaN</td>\n",
       "      <td>NaN</td>\n",
       "      <td>NaN</td>\n",
       "      <td>NaN</td>\n",
       "      <td>NaN</td>\n",
       "      <td>NaN</td>\n",
       "      <td>NaN</td>\n",
       "      <td>NaN</td>\n",
       "    </tr>\n",
       "    <tr>\n",
       "      <th>4</th>\n",
       "      <td>Equipment</td>\n",
       "      <td>Lighting System</td>\n",
       "      <td>NaN</td>\n",
       "      <td>NaN</td>\n",
       "      <td>NaN</td>\n",
       "      <td>NaN</td>\n",
       "      <td>NaN</td>\n",
       "      <td>NaN</td>\n",
       "      <td>NaN</td>\n",
       "      <td>NaN</td>\n",
       "      <td>NaN</td>\n",
       "      <td>NaN</td>\n",
       "      <td>NaN</td>\n",
       "      <td>NaN</td>\n",
       "      <td>NaN</td>\n",
       "      <td>NaN</td>\n",
       "      <td>NaN</td>\n",
       "      <td>NaN</td>\n",
       "      <td>NaN</td>\n",
       "    </tr>\n",
       "  </tbody>\n",
       "</table>\n",
       "</div>"
      ],
      "text/plain": [
       "   Dimension                                       TagSet  \\\n",
       "0  Equipment                                     Elevator   \n",
       "1  Equipment                               Energy Storage   \n",
       "2  Equipment                           Fire Safety System   \n",
       "3  Equipment  Heating Ventilation Air Conditioning System   \n",
       "4  Equipment                              Lighting System   \n",
       "\n",
       "                                          Definition  \\\n",
       "0                                                NaN   \n",
       "1  System that captures of energy produced at one...   \n",
       "2                                                NaN   \n",
       "3                                                NaN   \n",
       "4                                                NaN   \n",
       "\n",
       "                                      Reference  TagSet Decomposition  \\\n",
       "0                                           NaN                   NaN   \n",
       "1  https://en.wikipedia.org/wiki/Energy_storage                   NaN   \n",
       "2                                           NaN                   NaN   \n",
       "3                                           NaN                   NaN   \n",
       "4                                           NaN                   NaN   \n",
       "\n",
       "  usesEquipment isPartOf hasSynonym hasUnit hasAbbreviation  \\\n",
       "0           NaN      NaN        NaN     NaN             NaN   \n",
       "1           NaN      NaN        NaN     NaN             NaN   \n",
       "2           NaN      NaN        NaN     NaN             NaN   \n",
       "3           NaN      NaN       HVAC     NaN             NaN   \n",
       "4           NaN      NaN        NaN     NaN             NaN   \n",
       "\n",
       "  can be named? (can be instantiated?)  \\\n",
       "0                                  NaN   \n",
       "1                                  NaN   \n",
       "2                                  NaN   \n",
       "3                                  NaN   \n",
       "4                                  NaN   \n",
       "\n",
       "  can be unnamed? (cannot be instantiated?) Author  Reviewed  Review Count  \\\n",
       "0                                       NaN    NaN       NaN           NaN   \n",
       "1                                       NaN    NaN       NaN           NaN   \n",
       "2                                       NaN    NaN       NaN           NaN   \n",
       "3                                       NaN    NaN       NaN           NaN   \n",
       "4                                       NaN    NaN       NaN           NaN   \n",
       "\n",
       "  Discussion usesPoint usesLocation  usesMeasurement  \n",
       "0        NaN       NaN          NaN              NaN  \n",
       "1        NaN       NaN          NaN              NaN  \n",
       "2        NaN       NaN          NaN              NaN  \n",
       "3        NaN       NaN          NaN              NaN  \n",
       "4        NaN       NaN          NaN              NaN  "
      ]
     },
     "execution_count": 9,
     "metadata": {},
     "output_type": "execute_result"
    }
   ],
   "source": [
    "dfTagSets=pd.read_csv('TagSets.csv')\n",
    "schemaTagSets=set()\n",
    "for ts in pd.unique(dfTagSets.TagSet.dropna().ravel()):\n",
    "  schemaTagSets.add(ts.replace(' ','_'))\n",
    "for ts in pd.unique(dfTagSets.hasSynonym.dropna().ravel()):\n",
    "  for ts2 in ts.split(\",\"):\n",
    "   schemaTagSets.add(ts2.replace(' ','_'))\n",
    "for row in pd.unique(dfTagSets.usesEquipment.dropna().ravel()):\n",
    "  for ts in row.split(';'):\n",
    "    schemaTagSets.add(ts.replace(' ','_'))\n",
    "for row in pd.unique(dfTagSets.isPartOf.dropna().ravel()):\n",
    "  for ts in row.split(';'):\n",
    "    schemaTagSets.add(ts.replace(' ','_'))\n",
    "len(schemaTagSets)\n",
    "dfTagSets.head()"
   ]
  },
  {
   "cell_type": "code",
   "execution_count": 10,
   "metadata": {
    "collapsed": false
   },
   "outputs": [
    {
     "name": "stdout",
     "output_type": "stream",
     "text": [
      "Missing Tags:3\n",
      "{'', 'PowerSystem', 'DualBand'}\n"
     ]
    }
   ],
   "source": [
    "schemaUsedTags=set()\n",
    "schemaTagSetTags={}\n",
    "for ts in schemaTagSets:\n",
    "  schemaUsedTags.update(ts.split('_'))\n",
    "  schemaTagSetTags[ts]=set(ts.split('_'))\n",
    "schemaMissingTags=(schemaUsedTags - schemaTags) - set('')\n",
    "print(\"Missing Tags:\" + str(len(schemaMissingTags)))\n",
    "print(schemaMissingTags)"
   ]
  },
  {
   "cell_type": "markdown",
   "metadata": {
    "collapsed": false
   },
   "source": [
    "### Create Brick"
   ]
  },
  {
   "cell_type": "markdown",
   "metadata": {},
   "source": [
    "Classify Tags by Type"
   ]
  },
  {
   "cell_type": "code",
   "execution_count": 11,
   "metadata": {
    "collapsed": false
   },
   "outputs": [
    {
     "data": {
      "text/plain": [
       "47"
      ]
     },
     "execution_count": 11,
     "metadata": {},
     "output_type": "execute_result"
    }
   ],
   "source": [
    "# init Brick ontology\n",
    "nsBrickTagSet= \":\" # \"ts:\"\n",
    "foBrick = open('../dist/Brick.ttl', 'w')\n",
    "foBrick.write(\"\"\"@prefix owl: <http://www.w3.org/2002/07/owl#> .\n",
    "@prefix rdf: <http://www.w3.org/1999/02/22-rdf-syntax-ns#> .\n",
    "@prefix rdfs: <http://www.w3.org/2000/01/rdf-schema#> .\n",
    "@prefix skos: <http://www.w3.org/2004/02/skos/core#> .\\n\"\"\")\n",
    "foBrick.write(\"@prefix bf:  <http://buildsys.org/ontologies/BrickFrame#> .\\n\")\n",
    "foBrick.write(\"@prefix :    <http://buildsys.org/ontologies/Brick#> .\\n\\n\")\n",
    "foBrick.write(\"<http://buildsys.org/ontologies/Brick>  a owl:Ontology ;\\n\")\n",
    "foBrick.write(\"\\towl:imports <http://buildsys.org/ontologies/BrickFrame> ;\\n\")\n",
    "foBrick.write('\\trdfs:comment \"Domain TagSet Definition\"@en .\\n\\n')"
   ]
  },
  {
   "cell_type": "code",
   "execution_count": 12,
   "metadata": {
    "collapsed": false
   },
   "outputs": [
    {
     "data": {
      "text/plain": [
       "44"
      ]
     },
     "execution_count": 12,
     "metadata": {},
     "output_type": "execute_result"
    }
   ],
   "source": [
    "# init BrickTag ontology\n",
    "nsTagTag   = \":\"\n",
    "nsTagTagSet= \"brick:\" # \"ts:\"\n",
    "foTag = open('../dist/BrickTag.ttl', 'w')\n",
    "foTag.write(\"\"\"@prefix owl: <http://www.w3.org/2002/07/owl#> .\n",
    "@prefix rdf: <http://www.w3.org/1999/02/22-rdf-syntax-ns#> .\n",
    "@prefix rdfs: <http://www.w3.org/2000/01/rdf-schema#> .\n",
    "@prefix skos: <http://www.w3.org/2004/02/skos/core#> .\\n\"\"\")\n",
    "foTag.write(\"@prefix bf:    <http://buildsys.org/ontologies/BrickFrame#> .\\n\")\n",
    "foTag.write(\"@prefix brick: <http://buildsys.org/ontologies/Brick#> .\\n\\n\")\n",
    "foTag.write(\"@prefix :      <http://buildsys.org/ontologies/BrickTag#> .\\n\\n\")\n",
    "foTag.write(\"<http://buildsys.org/ontologies/BrickTag>  a owl:Ontology ;\\n\")\n",
    "foTag.write(\"\\towl:imports <http://buildsys.org/ontologies/BrickFrame> ;\\n\")\n",
    "foTag.write(\"\\towl:imports <http://buildsys.org/ontologies/Brick> ;\\n\")\n",
    "foTag.write('\\trdfs:comment \"Domain Tag Definition\"@en .\\n\\n')"
   ]
  },
  {
   "cell_type": "code",
   "execution_count": 13,
   "metadata": {
    "collapsed": false
   },
   "outputs": [],
   "source": [
    "dfTagSets.MainDimension=dfTagSets.Dimension.str.split(\">\",1,True)[0]\n",
    "dfDimensions=list(dfTagSets.MainDimension.unique())"
   ]
  },
  {
   "cell_type": "code",
   "execution_count": 14,
   "metadata": {
    "collapsed": false
   },
   "outputs": [],
   "source": [
    "synonyms={}\n",
    "for r in dfTagSets.index:\n",
    "  if str(dfTagSets.hasSynonym[r])!=\"nan\":\n",
    "    syn=dfTagSets.hasSynonym[r].split(\";\")\n",
    "    for s in syn:\n",
    "      synonyms[s]=dfTagSets.TagSet[r]"
   ]
  },
  {
   "cell_type": "code",
   "execution_count": 15,
   "metadata": {
    "collapsed": false
   },
   "outputs": [],
   "source": [
    "dfTagSets[\"Measurement2\"]=dfTagSets.TagSet\n",
    "dfMM=dfTagSets.Measurement2.ravel()\n",
    "for r in range(len(dfMM)):\n",
    "  dfM=\" \"+str(dfMM[r])+\" \"\n",
    "  if str(dfTagSets.usesLocation[r])!=\"nan\":\n",
    "    for loc in str(dfTagSets.usesLocation[r]).split(\";\"):\n",
    "      dfM=dfM.replace(\" \"+loc.strip()+\" \", \" \")\n",
    "  if str(dfTagSets.usesEquipment[r])!=\"nan\":\n",
    "    for eq in str(dfTagSets.usesEquipment[r]).split(\";\"):\n",
    "      dfM=dfM.replace(\" \"+eq.strip()+\" \", \" \")\n",
    "      if removeSynonyms and eq.strip() in synonyms:\n",
    "        for s in synonyms[eq.strip()].split(' '):\n",
    "          dfM=dfM.replace(\" \"+s+\" \", \" \")\n",
    "  if str(dfTagSets.usesPoint[r])!=\"nan\":\n",
    "    dfM=dfM.replace(\" \"+str(dfTagSets.usesPoint[r])+\" \", \" \")\n",
    "  dfMM[r]=dfM.strip()\n",
    "dfTagSets[\"Measurement2\"]=dfMM"
   ]
  },
  {
   "cell_type": "code",
   "execution_count": 16,
   "metadata": {
    "collapsed": true
   },
   "outputs": [],
   "source": [
    "def getLastDim(istr):\n",
    "  if \">\" not in istr:\n",
    "    return istr\n",
    "  else:\n",
    "    sstr=istr.split(\">\")\n",
    "    return sstr[-1]"
   ]
  },
  {
   "cell_type": "code",
   "execution_count": 17,
   "metadata": {
    "collapsed": true
   },
   "outputs": [],
   "source": [
    "dfTagSets['Parent']=dfTagSets.Dimension.apply(getLastDim)\n",
    "dfTagSets['MainDimension']=dfTagSets.Dimension.str.split(\">\",1,True)[0]"
   ]
  },
  {
   "cell_type": "code",
   "execution_count": 18,
   "metadata": {
    "collapsed": false
   },
   "outputs": [],
   "source": [
    "# Missing tags\n",
    "for dim in dfDimensions:\n",
    "  usedTags=set([t for i in dfTagSets.loc[dfTagSets.Dimension.str.startswith(dim)].TagSet.str.split(' ') for t in i])\n",
    "  defTags =set(dfTags.loc[dfTags.Dimension.str.startswith(dim)].Tag)\n",
    "  #print(\"Missing Tags for \"+dim+\"\\n\"+str(usedTags-defTags)+\"\\n\")"
   ]
  },
  {
   "cell_type": "code",
   "execution_count": 19,
   "metadata": {
    "collapsed": true
   },
   "outputs": [],
   "source": [
    "# Classify TagSets\n",
    "dfTagSetsEqLoc=dfTagSets.loc[dfTagSets.Dimension.str.startswith(\"Equipment\") | dfTagSets.Dimension.str.startswith(\"Location\")]\n",
    "dfTagSetsPoints=dfTagSets.loc[dfTagSets.Dimension.str.startswith(\"Point\")]\n",
    "dfTagSetsMeas=dfTagSets.loc[dfTagSets.Dimension.str.startswith(\"MeasurementProperty\")]"
   ]
  },
  {
   "cell_type": "code",
   "execution_count": 20,
   "metadata": {
    "collapsed": false
   },
   "outputs": [],
   "source": [
    "tagsetsPoints={}\n",
    "for r in dfTagSetsPoints.index:\n",
    "  if createEquipmentTagSets and dfTagSetsPoints.usesEquipment[r]!='' and str(dfTagSetsPoints.usesEquipment[r])!=\"nan\":\n",
    "    equip=[s.strip() for s in dfTagSetsPoints.usesEquipment[r].split(';')]\n",
    "    equip.append(\"\")\n",
    "  else: equip=[\"\"]\n",
    "  tagsets=set([dfTagSetsPoints.TagSet[r]])  | set(str(dfTagSetsPoints.hasSynonym[r]).split(\",\")) - set(['', 'nan'])\n",
    "  for tagset in tagsets:\n",
    "   for eq in equip:\n",
    "    if eq!=\"\" and eq not in tagset:\n",
    "      ts=eq.replace(\" \", \"_\") + \" \" + tagset\n",
    "    else:\n",
    "      ts=tagset\n",
    "    if ts not in tagsetsPoints:\n",
    "      tagsetsPoints[ts]={\n",
    "        'TagSet':ts,\n",
    "        'Tags':set(ts.split(' ')),\n",
    "        'usesPoint':dfTagSetsPoints.usesPoint[r],\n",
    "        'usesLocation':dfTagSetsPoints.usesLocation[r],\n",
    "        'usesEquipment':dfTagSetsPoints.usesEquipment[r],\n",
    "        'usesMeasurement':dfTagSetsPoints.usesMeasurement[r],\n",
    "        'description':dfTagSetsPoints.Definition[r],\n",
    "        'dimension':dfTagSetsPoints.Dimension[r],\n",
    "        'maindimension':dfTagSetsPoints.MainDimension[r],\n",
    "        'synonyms':tagsets-set([ts]),\n",
    "        'parent':dfTagSetsPoints.Parent[r],\n",
    "        'parents':set([dfTagSetsPoints.Parent[r].replace('_',' ')]),\n",
    "        'allparents':set([dfTagSetsPoints.Parent[r].replace('_',' ')]),\n",
    "        #'measurement':dfTagSetsPoints.Measurement[r],\n",
    "        #'measurement2':dfTagSetsPoints.Measurement2[r]\n",
    "      }\n",
    "      if createEquipmentTagSets: \n",
    "         tagsetsPoints[ts]['usesEquipment']=eq\n",
    "      if eq!=\"\" and len(tagsets-set([ts]))>0:  \n",
    "        tagsetsPoints[ts]['synonyms']= [(eq.replace(\" \", \"_\") + \" \" + ts2) for ts2 in (tagsets-set([ts])) if eq not in ts2]\n",
    "      dfM=\" \"+tagset+\" \"\n",
    "      if str(dfTagSets.usesLocation[r])!=\"nan\":\n",
    "        for loc in str(dfTagSets.usesLocation[r]).split(\";\"):\n",
    "          dfM=dfM.replace(\" \"+loc.strip()+\" \", \" \")\n",
    "      if str(dfTagSets.usesEquipment[r])!=\"nan\":\n",
    "        for eq in str(dfTagSets.usesEquipment[r]).split(\";\"):\n",
    "          dfM=dfM.replace(\" \"+eq.strip()+\" \", \" \")\n",
    "          dfM=dfM.replace(\" \"+eq.replace(\" \", \"_\").strip()+\" \", \" \")\n",
    "          if removeSynonyms and eq.strip() in synonyms:\n",
    "            for s in synonyms[eq.strip()].split(' '):\n",
    "              dfM=dfM.replace(\" \"+s+\" \", \" \")\n",
    "      if str(dfTagSets.usesPoint[r])!=\"nan\":\n",
    "        dfM=dfM.replace(\" \"+str(dfTagSets.usesPoint[r])+\" \", \" \")\n",
    "      tagsetsPoints[ts]['measurement2']=dfM.strip()\n",
    "if '' in tagsetsPoints: del tagsetsPoints['']"
   ]
  },
  {
   "cell_type": "code",
   "execution_count": 21,
   "metadata": {
    "collapsed": false
   },
   "outputs": [],
   "source": [
    "# determine parent concepts\n",
    "for tsA in tagsetsPoints:\n",
    "  for tsB in tagsetsPoints:\n",
    "    if tagsetsPoints[tsA]['maindimension'] == tagsetsPoints[tsB]['maindimension']:\n",
    "      if tagsetsPoints[tsB]['Tags'] < tagsetsPoints[tsA]['Tags']:\n",
    "        tagsetsPoints[tsA]['allparents'].add(tsB)\n",
    "        tagsetsPoints[tsA]['parents'].add(tsB)"
   ]
  },
  {
   "cell_type": "code",
   "execution_count": 22,
   "metadata": {
    "collapsed": false
   },
   "outputs": [],
   "source": [
    "# minimize parent concepts\n",
    "for tsA in tagsetsPoints:\n",
    "  rmOldParent=set()\n",
    "  for tsB in tagsetsPoints[tsA]['parents']:\n",
    "    for tsC in tagsetsPoints[tsA]['parents']:\n",
    "      if set(tsB.split(' ')) > set(tsC.split(' ')): # if direct parent\n",
    "        rmOldParent.add(tsC)\n",
    "  for tsC in rmOldParent:\n",
    "    tagsetsPoints[tsA]['parents'].remove(tsC)"
   ]
  },
  {
   "cell_type": "code",
   "execution_count": 23,
   "metadata": {
    "collapsed": false
   },
   "outputs": [],
   "source": [
    "tagsetsMeas={}\n",
    "if not usedMeasOnly:\n",
    " for r in dfTagSetsMeas.index:\n",
    "  tagsetsMeas[dfTagSetsMeas.TagSet[r]]={\n",
    "    'TagSet':dfTagSetsMeas.TagSet[r],\n",
    "    'Tags':set(dfTagSetsMeas.TagSet[r].split(' ')),\n",
    "    'dimension':dfTagSetsMeas.Dimension[r],\n",
    "    'maindimension':dfTagSetsMeas.MainDimension[r],\n",
    "    'description':dfTagSetsMeas.Definition[r],\n",
    "    'reference':dfTagSetsMeas.Reference[r],\n",
    "    'parent' : dfTagSetsMeas.usesMeasurement[r],\n",
    "    'parents':set(['MeasurementProperty']),\n",
    "    'allparents':set(['MeasurementProperty'])\n",
    "  }\n",
    "# add missing\n",
    "meas=set([tagsetsPoints[ts]['measurement2'] for ts in tagsetsPoints])-set(['Setpoint','Sensor','Status','Command','Alarm','Meter'])\n",
    "for ts in pd.unique(meas):\n",
    " if ts not in tagsetsMeas:\n",
    "  tagsetsMeas[ts]={\n",
    "    'TagSet':ts,\n",
    "    'Tags':set(ts.split(' ')),\n",
    "    'dimension':'MeasurementProperty',\n",
    "    'maindimension':'MeasurementProperty',\n",
    "    'measdim':'MeasurementProperty',\n",
    "    'description':'',\n",
    "    'parent':'',\n",
    "    'parents':set(['UndefinedMeasurement']),\n",
    "    'allparents':set(['UndefinedMeasurement'])\n",
    "  }\n",
    "for ts in set(['UndefinedMeasurement']):\n",
    " if ts not in tagsetsMeas:\n",
    "  tagsetsMeas[ts]={\n",
    "    'TagSet':ts,\n",
    "    'Tags':set([ts]),\n",
    "    'dimension':'MeasurementProperty',\n",
    "    'maindimension':'MeasurementProperty',\n",
    "    'measdim':'MeasurementProperty',\n",
    "    'description':'',\n",
    "    'parent':'',\n",
    "    'parents':set(['MeasurementProperty']),\n",
    "    'allparents':set(['MeasurementProperty'])\n",
    "  }\n",
    "\n",
    "if '' in tagsetsMeas: del tagsetsMeas['']"
   ]
  },
  {
   "cell_type": "code",
   "execution_count": 24,
   "metadata": {
    "collapsed": false
   },
   "outputs": [],
   "source": [
    "# determine parent concepts\n",
    "for tsA in tagsetsMeas:\n",
    "  for tsB in tagsetsMeas:\n",
    "    if tagsetsMeas[tsA]['maindimension'] == tagsetsMeas[tsB]['maindimension']:\n",
    "      if tagsetsMeas[tsB]['Tags'] < tagsetsMeas[tsA]['Tags']:\n",
    "        tagsetsMeas[tsA]['allparents'].add(tsB)\n",
    "        tagsetsMeas[tsA]['parents'].add(tsB)"
   ]
  },
  {
   "cell_type": "code",
   "execution_count": 25,
   "metadata": {
    "collapsed": false
   },
   "outputs": [],
   "source": [
    "# minimize parent concepts\n",
    "for tsA in tagsetsMeas:\n",
    "  while True:\n",
    "    rmOldParent=set()\n",
    "    for tsB in tagsetsMeas[tsA]['parents']:\n",
    "      for tsC in tagsetsMeas[tsA]['parents']:\n",
    "        #if tagsetsMeas[tsB]['Tags'] > tagsetsMeas[tsC]['Tags']: # if direct parent\n",
    "        if set(tsB.split(' ')) > set(tsC.split(' ')): # if direct parent\n",
    "          rmOldParent.add(tsC)\n",
    "    if len(tagsetsMeas[tsA]['parents'])>1 and 'UndefinedMeasurement' in tagsetsMeas[tsA]['parents']:\n",
    "      rmOldParent.add('UndefinedMeasurement')\n",
    "    for tsC in rmOldParent:\n",
    "      tagsetsMeas[tsA]['parents'].remove(tsC)\n",
    "    if len(rmOldParent)==0:\n",
    "      break;"
   ]
  },
  {
   "cell_type": "code",
   "execution_count": 26,
   "metadata": {
    "collapsed": false
   },
   "outputs": [],
   "source": [
    "brickTagSets={}\n",
    "for hir in pd.unique(dfTagSets.Dimension.dropna().ravel()):\n",
    "  tags=hir.split('>')\n",
    "  atags=\"\"\n",
    "  for i in range(len(tags)):\n",
    "    tag=tags[i]\n",
    "    otags=atags\n",
    "    atags=tag.strip('_')\n",
    "    if atags not in brickTagSets:\n",
    "      indivLocName=nsBrickTagSet + IndivName(atags)\n",
    "      if i>0:\n",
    "        foBrick.write(\"\\n \"+indivLocName+\"  rdfs:subClassOf   \"+brickTagSets[otags]+\";\")\n",
    "      else:\n",
    "        foBrick.write(\"\\n \"+indivLocName+\"  rdfs:subClassOf   bf:TagSet;\")\n",
    "      foBrick.write('\\n\\t\\t\\t rdf:type   owl:Class ;')\n",
    "      foBrick.write('\\n\\t\\t\\t rdfs:label \"'+tag+'\"@en .\\n')\n",
    "      brickTagSets[atags]=indivLocName;"
   ]
  },
  {
   "cell_type": "markdown",
   "metadata": {},
   "source": [
    "Add TagSets leaves"
   ]
  },
  {
   "cell_type": "code",
   "execution_count": 27,
   "metadata": {
    "collapsed": false
   },
   "outputs": [],
   "source": [
    "# create location individuals\n",
    "for idx in dfTagSetsEqLoc.index:\n",
    "  tagsets=set([str(dfTagSetsEqLoc.loc[idx, \"TagSet\"])]) | set(str(dfTagSetsEqLoc.loc[idx, \"hasSynonym\"]).split(\",\"))\n",
    "  ots=None\n",
    "  for tagset in tagsets:\n",
    "    if tagset!=\"nan\":\n",
    "      parent= brickTagSets[str(dfTagSetsEqLoc.loc[idx, \"Dimension\"]).split('>')[-1]]\n",
    "      indivLocName=nsBrickTagSet + IndivName(tagset)\n",
    "      foBrick.write(\"\\n \"+indivLocName+\"  rdfs:subClassOf   \"+parent+\";\")\n",
    "      foBrick.write('\\n\\t\\t\\t rdf:type   owl:Class ;')\n",
    "      if ots:\n",
    "        foBrick.write('\\n\\t\\t\\t owl:equivalentClass '+ots+';')\n",
    "      foBrick.write('\\n\\t\\t\\t rdfs:label \"'+str(dfTagSetsEqLoc.loc[idx, \"TagSet\"])+'\"@en.\\n')\n",
    "      for tag in tagset.split(): # write to BrickTag\n",
    "        foTag.write('\\n '+nsTagTagSet + IndivName(tagset)+'  bf:usesTag :'+tag+'.')\n",
    "        if writeTagUsedBy: \n",
    "          foTag.write('\\n :'+tag+'  bf:usedBy '+nsTagTagSet + IndivName(tagset)+'.')\n",
    "      brickTagSets[tagset]=indivLocName;\n",
    "      ots=indivLocName;"
   ]
  },
  {
   "cell_type": "code",
   "execution_count": 28,
   "metadata": {
    "collapsed": false
   },
   "outputs": [],
   "source": [
    "# write measurement tagsets\n",
    "for tsA in tagsetsMeas:\n",
    "  ts=tagsetsMeas[tsA]\n",
    "  indivLocName=nsBrickTagSet + IndivName(ts['TagSet'])\n",
    "  supClass=\"\"\n",
    "  for par in ts['parents']:\n",
    "    supClass = supClass + \", \" + nsBrickTagSet + IndivName(par)\n",
    "  foBrick.write(\"\\n \"+indivLocName+\"  rdfs:subClassOf   \"+supClass.strip(',').strip()+\";\")\n",
    "  foBrick.write('\\n\\t\\t\\t rdf:type   owl:Class ;')\n",
    "  if ts['description']!='' and str(ts['description'])!=\"nan\":\n",
    "    #foBrick.write('\\n\\t\\t\\t rdfs:description \"'+ts['description']+'\"@en;')\n",
    "    foBrick.write('\\n\\t\\t\\t skos:definition \"'+ts['description']+'\"@en ;\\n')\n",
    "  foBrick.write('\\n\\t\\t\\t rdfs:label \"'+ts['TagSet']+'\"@en .\\n')\n",
    "  for tag in ts['Tags']: # write to BrickTag\n",
    "    foTag.write('\\n '+nsTagTagSet + IndivName(ts['TagSet'])+'  bf:usesTag :'+tag+'.')\n",
    "    if writeTagUsedBy:\n",
    "      foTag.write('\\n :'+tag+'  bf:usedBy '+nsTagTagSet + IndivName(ts['TagSet'])+'.')"
   ]
  },
  {
   "cell_type": "code",
   "execution_count": 29,
   "metadata": {
    "collapsed": false
   },
   "outputs": [],
   "source": [
    "#Write point tagsets\n",
    "for tsA in tagsetsPoints:\n",
    "  ts=tagsetsPoints[tsA]\n",
    "  if not ts['parents']:\n",
    "    print(ts)\n",
    "    continue;\n",
    "  tagsets=set([ts['TagSet']])#  | set(str(ts[\"synonyms\"]).split(\",\")) - set(['', 'nan'])\n",
    "  ots=None\n",
    "  for tagset in tagsets:\n",
    "    tagset=tagset.strip()\n",
    "    indivLocName=nsBrickTagSet + IndivName(tagset)\n",
    "    brickTagSets[tagset]=indivLocName;\n",
    "    supClass= \"\" #\"bf:TagSet, \"\n",
    "    for par in ts['parents']:\n",
    "      supClass = supClass + \", \" + nsBrickTagSet + IndivName(par)\n",
    "    foBrick.write(\"\\n \"+indivLocName+\"  rdfs:subClassOf   \"+supClass.strip(',').strip()+\";\")\n",
    "    foBrick.write('\\n\\t\\t\\t rdf:type   owl:Class ;')\n",
    "    if ts['synonyms']!='' and str(ts['synonyms'])!=\"nan\":\n",
    "      for syn in ts['synonyms']:\n",
    "       if syn != tagset:\n",
    "        if setEquivalent:\n",
    "          foBrick.write('\\n\\t\\t\\t owl:equivalentClass '+nsBrickTagSet + IndivName(syn)+';')\n",
    "        else:\n",
    "          foBrick.write('\\n\\t\\t\\t bf:equivalentTagSet '+nsBrickTagSet + IndivName(syn)+';')\n",
    "    ots=indivLocName;\n",
    "    if 'description' in ts and ts['description']!='' and str(ts['description'])!=\"nan\":\n",
    "      #foBrick.write('\\n\\t\\t\\t rdfs:description \"'+getStr(ts['description'].replace('\"',\"'\"))+'\"@en;')\n",
    "      foBrick.write('\\n\\t\\t\\t skos:definition \"'+getStr(ts['description'].replace('\"',\"'\"))+'\"@en;')\n",
    "    if 'reference' in ts and ts['reference']!='' and str(ts['reference'])!=\"nan\":\n",
    "      foBrick.write('\\n\\t\\t\\t rdfs:isDefinedBy \"'+getStr(ts['reference'].replace('\"',\"'\")) + '\"@en ;\\n')\n",
    "    foBrick.write('\\n\\t\\t\\t rdfs:label \"'+ts['TagSet']+'\"@en .\\n')\n",
    "    for tag in ts['Tags']: # write to BrickTag\n",
    "      foTag.write('\\n '+nsTagTagSet + IndivName(tagset)+'  bf:usesTag :'+tag+'.')\n",
    "      if writeTagUsedBy: \n",
    "        foTag.write('\\n :'+tag+'  bf:usedBy '+nsTagTagSet + IndivName(tagset)+'.')\n",
    "    if ts['usesLocation']!='' and str(ts['usesLocation'])!=\"nan\":\n",
    "      for loc in ts['usesLocation'].split(';'):\n",
    "        foBrick.write('\\n '+indivLocName+' bf:usesLocation :'+IndivName(loc.strip())+'.')\n",
    "        if writeUsedByPoint: \n",
    "          foBrick.write('\\n :'+IndivName(loc.strip())+'  bf:usedByPoint '+indivLocName+'.')\n",
    "    if ts['usesEquipment']!='' and str(ts['usesEquipment'])!=\"nan\":\n",
    "      for eq in ts['usesEquipment'].split(';'):\n",
    "        foBrick.write('\\n '+indivLocName+' bf:usesEquipment :'+IndivName(eq.strip())+'.')\n",
    "        if writeUsedByPoint: \n",
    "          foBrick.write('\\n :'+IndivName(eq.strip())+'  bf:usedByPoint '+indivLocName+'.')\n",
    "    if ts['usesPoint']!='' and str(ts['usesPoint'])!=\"nan\":\n",
    "      foBrick.write('\\n '+indivLocName+' bf:usesPoint :'+IndivName(ts['usesPoint'])+'.')\n",
    "      if writeUsedByPoint: \n",
    "        foBrick.write('\\n :'+IndivName(ts['usesPoint'])+'  bf:usedByPoint '+indivLocName+'.')\n",
    "    if ts['measurement2']!='' and str(ts['measurement2'])!=\"nan\" and tagset!=ts['measurement2']:\n",
    "      foBrick.write('\\n '+indivLocName+' bf:usesMeasurement :'+IndivName(ts['measurement2'])+'.')\n",
    "      if writeUsedByPoint: \n",
    "        foBrick.write('\\n :'+IndivName(ts['measurement2'])+'  bf:usedByPoint '+indivLocName+'.')\n",
    "    ots=indivLocName;"
   ]
  },
  {
   "cell_type": "code",
   "execution_count": 30,
   "metadata": {
    "collapsed": true
   },
   "outputs": [],
   "source": [
    "foBrick.write('\\n')\n",
    "foBrick.close()"
   ]
  },
  {
   "cell_type": "code",
   "execution_count": 31,
   "metadata": {
    "collapsed": false
   },
   "outputs": [],
   "source": [
    "# format\n",
    "g = rdflib.Graph()\n",
    "result = g.parse('../dist/Brick.ttl', format='n3')"
   ]
  },
  {
   "cell_type": "code",
   "execution_count": 32,
   "metadata": {
    "collapsed": true
   },
   "outputs": [],
   "source": [
    "# rewrite for formating\n",
    "g.serialize(destination='../dist/Brick.ttl', format='turtle')"
   ]
  },
  {
   "cell_type": "code",
   "execution_count": 33,
   "metadata": {
    "collapsed": false
   },
   "outputs": [
    {
     "data": {
      "text/plain": [
       "2043"
      ]
     },
     "execution_count": 33,
     "metadata": {},
     "output_type": "execute_result"
    }
   ],
   "source": [
    "qres = g.query(\"\"\"SELECT DISTINCT ?ts WHERE {  ?ts rdfs:subClassOf+ bf:TagSet . }\"\"\")\n",
    "brickTagSets=set()\n",
    "brickTagSetTags={}\n",
    "for row in qres:\n",
    "  ts=ns(row['ts'])\n",
    "  brickTagSets.add(ts)\n",
    "  brickTagSetTags[ts]=set(ts.split('_'))\n",
    "len(brickTagSets)"
   ]
  },
  {
   "cell_type": "markdown",
   "metadata": {},
   "source": [
    "### Write Tags"
   ]
  },
  {
   "cell_type": "markdown",
   "metadata": {},
   "source": [
    "Write Tag Hierachy"
   ]
  },
  {
   "cell_type": "code",
   "execution_count": 34,
   "metadata": {
    "collapsed": false
   },
   "outputs": [],
   "source": [
    "brickTags={}\n",
    "for hir in pd.unique(dfTags.Dimension.dropna().ravel()):\n",
    "  tags=hir.split('>')\n",
    "  atags=\"\"\n",
    "  for i in range(len(tags)):\n",
    "    tag=tags[i]\n",
    "    otags=atags\n",
    "    atags=(atags+\"_\"+tag).strip(\"_\")\n",
    "    if atags not in brickTags:\n",
    "      indivLocName=nsTagTag+IndivName(atags)\n",
    "      if i>0:\n",
    "        #foTag.write(\"\\n \"+indivLocName+\"  rdfs:subClassOf   \"+brickTags[otags]+\";\")\n",
    "        foTag.write(\"\\n \"+indivLocName+\"  rdfs:subClassOf   bf:Tag;\")\n",
    "      else:\n",
    "        foTag.write(\"\\n \"+indivLocName+\"  rdfs:subClassOf   bf:Tag;\")\n",
    "      foTag.write('\\n\\t\\t\\t rdf:type   owl:Class ;')\n",
    "      foTag.write('\\n\\t\\t\\t bf:isHierarchical  \"\";')\n",
    "      foTag.write('\\n\\t\\t\\t skos:definition \"\"@en ;\\n')\n",
    "      foTag.write('\\n\\t\\t\\t rdfs:label \"'+tag+'\"@en .\\n')\n",
    "      brickTags[atags]=indivLocName;\n",
    "      parent=tag;"
   ]
  },
  {
   "cell_type": "markdown",
   "metadata": {},
   "source": [
    "Add tag leaves"
   ]
  },
  {
   "cell_type": "code",
   "execution_count": 35,
   "metadata": {
    "collapsed": false
   },
   "outputs": [],
   "source": [
    "# create location individuals\n",
    "for idx in dfTags.index:\n",
    "  #parent=brickTags[str(dfTags.loc[idx, \"Dimension\"]).split('>')[-1]]\n",
    "  parent=brickTags[str(dfTags.loc[idx, \"Dimension\"]).replace('>','_')]\n",
    "  indivLocName=nsTagTag + IndivName(str(dfTags.loc[idx, \"Tag\"]))\n",
    "  #foTag.write(\"\\n \"+indivLocName+\"  rdfs:subClassOf   \"+parent+\";\")\n",
    "  foTag.write(\"\\n \"+indivLocName+\"  rdfs:subClassOf   bf:Tag;\")\n",
    "  foTag.write('\\n\\t\\t\\t rdf:type   owl:Class ;')\n",
    "  foTag.write('\\n\\t\\t\\t skos:definition \"'+getStr(dfTags.loc[idx, \"Definition\"])+'\"@en ;\\n')\n",
    "  foTag.write('\\n\\t\\t\\t rdfs:label \"'+str(dfTags.loc[idx, \"Tag\"])+'\"@en .\\n')\n",
    "  brickTags[tag]=indivLocName;"
   ]
  },
  {
   "cell_type": "code",
   "execution_count": 36,
   "metadata": {
    "collapsed": true
   },
   "outputs": [],
   "source": [
    "foTag.close()"
   ]
  },
  {
   "cell_type": "code",
   "execution_count": 37,
   "metadata": {
    "collapsed": false
   },
   "outputs": [],
   "source": [
    "# format\n",
    "g = rdflib.Graph()\n",
    "result = g.parse('../dist/BrickTag.ttl', format='n3')"
   ]
  },
  {
   "cell_type": "code",
   "execution_count": 38,
   "metadata": {
    "collapsed": true
   },
   "outputs": [],
   "source": [
    "# rewrite for formating\n",
    "g.serialize(destination='../dist/BrickTag.ttl', format='turtle')"
   ]
  },
  {
   "cell_type": "code",
   "execution_count": null,
   "metadata": {
    "collapsed": true
   },
   "outputs": [],
   "source": []
  }
 ],
 "metadata": {
  "anaconda-cloud": {},
  "kernelspec": {
   "display_name": "Python 3",
   "language": "python",
   "name": "python3"
  },
  "language_info": {
   "codemirror_mode": {
    "name": "ipython",
    "version": 3
   },
   "file_extension": ".py",
   "mimetype": "text/x-python",
   "name": "python",
   "nbconvert_exporter": "python",
   "pygments_lexer": "ipython3",
   "version": "3.6.0"
  }
 },
 "nbformat": 4,
 "nbformat_minor": 0
}
