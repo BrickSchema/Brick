{
 "cells": [
  {
   "cell_type": "markdown",
   "metadata": {},
   "source": [
    "# Creates Brick\n",
    "\n",
    "The notebook generates a brick ontology from the 'Tags.csv' and 'TagSets.csv' files."
   ]
  },
  {
   "cell_type": "code",
   "execution_count": null,
   "metadata": {
    "collapsed": false
   },
   "outputs": [],
   "source": [
    "#!pip install rdflib\n",
    "#!pip install pydot2\n",
    "#!pip install pydotplus"
   ]
  },
  {
   "cell_type": "code",
   "execution_count": null,
   "metadata": {
    "collapsed": false
   },
   "outputs": [],
   "source": [
    "import rdflib\n",
    "from rdflib.namespace import RDFS\n",
    "from rdflib import URIRef, BNode, Literal\n",
    "import re\n",
    "from collections import defaultdict\n",
    "import numpy as np\n",
    "import pandas as pd\n",
    "import json"
   ]
  },
  {
   "cell_type": "code",
   "execution_count": null,
   "metadata": {
    "collapsed": false
   },
   "outputs": [],
   "source": [
    "def ns(url):\n",
    "  url = url.replace(\"http://buildsys.org/ontologies/brick#\", \"\")\n",
    "  url = url.replace(\"http://buildsys.org/ontologies/brickFrame#\", \"\")\n",
    "  return url"
   ]
  },
  {
   "cell_type": "code",
   "execution_count": null,
   "metadata": {
    "collapsed": true
   },
   "outputs": [],
   "source": [
    "def IndivName(name):\n",
    "  return re.sub(r'\\s','_',re.sub(r'[^\\d\\w\\s]', '', name))"
   ]
  },
  {
   "cell_type": "code",
   "execution_count": null,
   "metadata": {
    "collapsed": true
   },
   "outputs": [],
   "source": [
    "def getStr(s):\n",
    "  #if type(s)==str or type(s)==unicode:\n",
    "  if type(s)=='str' or type(s)=='unicode':\n",
    "    return s\n",
    "  else:\n",
    "    return ''"
   ]
  },
  {
   "cell_type": "markdown",
   "metadata": {},
   "source": [
    "### Load Tag and TagSets from Definition"
   ]
  },
  {
   "cell_type": "code",
   "execution_count": null,
   "metadata": {
    "collapsed": true
   },
   "outputs": [],
   "source": [
    "#r = requests.get('docs.google.com/feeds/download/spreadsheets/Export?key=1QTSu0UxJ7UqRvgTW2P1Q4qudoBbvPqXpEhYiulyjcro&exportFormat=xlsx')\n",
    "#r.status_code"
   ]
  },
  {
   "cell_type": "code",
   "execution_count": null,
   "metadata": {
    "collapsed": false
   },
   "outputs": [],
   "source": [
    "#dfTags=pd.read_excel('Schema Engineering.xlsx',\"Tags\")\n",
    "dfTags=pd.read_csv('Tags.csv')\n",
    "schemaTags=set(pd.unique(dfTags.Tag.dropna().ravel()))\n",
    "len(schemaTags)\n",
    "dfTags.head()"
   ]
  },
  {
   "cell_type": "code",
   "execution_count": null,
   "metadata": {
    "collapsed": false
   },
   "outputs": [],
   "source": [
    "dfTagSets=pd.read_csv('TagSets.csv')\n",
    "schemaTagSets=set()\n",
    "for ts in pd.unique(dfTagSets.TagSet.dropna().ravel()):\n",
    "  schemaTagSets.add(ts.replace(' ','_'))\n",
    "for ts in pd.unique(dfTagSets.hasSynonym.dropna().ravel()):\n",
    "  for ts2 in ts.split(\",\"):\n",
    "   schemaTagSets.add(ts2.replace(' ','_'))\n",
    "for row in pd.unique(dfTagSets.usesEquipment.dropna().ravel()):\n",
    "  for ts in row.split(';'):\n",
    "    schemaTagSets.add(ts.replace(' ','_'))\n",
    "for row in pd.unique(dfTagSets.isPartOf.dropna().ravel()):\n",
    "  for ts in row.split(';'):\n",
    "    schemaTagSets.add(ts.replace(' ','_'))\n",
    "len(schemaTagSets)\n",
    "dfTagSets.head()"
   ]
  },
  {
   "cell_type": "code",
   "execution_count": null,
   "metadata": {
    "collapsed": false
   },
   "outputs": [],
   "source": [
    "schemaUsedTags=set()\n",
    "schemaTagSetTags={}\n",
    "for ts in schemaTagSets:\n",
    "  schemaUsedTags.update(ts.split('_'))\n",
    "  schemaTagSetTags[ts]=set(ts.split('_'))\n",
    "schemaMissingTags=(schemaUsedTags - schemaTags) - set('')\n",
    "print(\"Missing Tags:\" + str(len(schemaMissingTags)))\n",
    "print(schemaMissingTags)"
   ]
  },
  {
   "cell_type": "markdown",
   "metadata": {
    "collapsed": false
   },
   "source": [
    "### Create Brick"
   ]
  },
  {
   "cell_type": "markdown",
   "metadata": {},
   "source": [
    "Classify Tags by Type"
   ]
  },
  {
   "cell_type": "code",
   "execution_count": null,
   "metadata": {
    "collapsed": false
   },
   "outputs": [],
   "source": [
    "# init Brick ontology\n",
    "nsBrickTagSet= \":\" # \"ts:\"\n",
    "foBrick = open('../dist/Brick.ttl', 'w')\n",
    "foBrick.write(\"\"\"@prefix owl: <http://www.w3.org/2002/07/owl#> .\n",
    "@prefix rdf: <http://www.w3.org/1999/02/22-rdf-syntax-ns#> .\n",
    "@prefix rdfs: <http://www.w3.org/2000/01/rdf-schema#> .\n",
    "@prefix skos: <http://www.w3.org/2004/02/skos/core#> .\\n\"\"\")\n",
    "foBrick.write(\"@prefix bf:  <http://buildsys.org/ontologies/BrickFrame#> .\\n\")\n",
    "foBrick.write(\"@prefix :    <http://buildsys.org/ontologies/Brick#> .\\n\\n\")\n",
    "foBrick.write(\"<http://buildsys.org/ontologies/Brick>  a owl:Ontology ;\\n\")\n",
    "foBrick.write(\"\\towl:imports <http://buildsys.org/ontologies/BrickFrame> ;\\n\")\n",
    "foBrick.write('\\trdfs:comment \"Domain TagSet Definition\"@en .\\n\\n')"
   ]
  },
  {
   "cell_type": "code",
   "execution_count": null,
   "metadata": {
    "collapsed": false
   },
   "outputs": [],
   "source": [
    "# init BrickTag ontology\n",
    "nsTagTag   = \":\"\n",
    "nsTagTagSet= \"brick:\" # \"ts:\"\n",
    "foTag = open('../dist/BrickTag.ttl', 'w')\n",
    "foTag.write(\"\"\"@prefix owl: <http://www.w3.org/2002/07/owl#> .\n",
    "@prefix rdf: <http://www.w3.org/1999/02/22-rdf-syntax-ns#> .\n",
    "@prefix rdfs: <http://www.w3.org/2000/01/rdf-schema#> .\n",
    "@prefix skos: <http://www.w3.org/2004/02/skos/core#> .\\n\"\"\")\n",
    "foTag.write(\"@prefix bf:    <http://buildsys.org/ontologies/BrickFrame#> .\\n\")\n",
    "foTag.write(\"@prefix brick: <http://buildsys.org/ontologies/Brick#> .\\n\\n\")\n",
    "foTag.write(\"@prefix :      <http://buildsys.org/ontologies/BrickTag#> .\\n\\n\")\n",
    "foTag.write(\"<http://buildsys.org/ontologies/BrickTag>  a owl:Ontology ;\\n\")\n",
    "foTag.write(\"\\towl:imports <http://buildsys.org/ontologies/BrickFrame> ;\\n\")\n",
    "foTag.write(\"\\towl:imports <http://buildsys.org/ontologies/Brick> ;\\n\")\n",
    "foTag.write('\\trdfs:comment \"Domain Tag Definition\"@en .\\n\\n')"
   ]
  },
  {
   "cell_type": "code",
   "execution_count": null,
   "metadata": {
    "collapsed": false
   },
   "outputs": [],
   "source": [
    "#Classify tags by dimension from \"Tags\" sheet in Schema Engineering\n",
    "dfMeasTags  = dfTags.loc[dfTags.Dimension == \"MeasurementProperty>PhysicalProperties\"]\n",
    "dfMeasPropTags = dfTags.loc[dfTags.Dimension.str.startswith(\"MeasurementProperty\")]\n",
    "dfLocTags   = dfTags.loc[dfTags.Dimension == \"Location\"]\n",
    "dfPointTags = dfTags.loc[dfTags.Dimension == \"Point\"]\n",
    "dfEquipTags = dfTags.loc[dfTags.Dimension.str.startswith(\"Equipment\")]\n",
    "\n",
    "#Identify dimensions based on tags\n",
    "def getPointDim(istr):\n",
    "  for pt in dfPointTags.Tag:\n",
    "    if pt in str(istr): return pt\n",
    "  return \"UndefinedPoint\"\n",
    "\n",
    "def getMeasDim(istr):\n",
    "  for pt in dfMeasTags.Tag:\n",
    "    if pt in str(istr): return pt\n",
    "  return \"UndefinedMeasurement\"\n",
    "\n",
    "def getLocDim(istr):\n",
    "  for pt in dfLocTags.Tag:\n",
    "    if pt in str(istr): return pt\n",
    "  return \"UndefinedLocation\"\n",
    "\n",
    "def getEquipDim(istr):\n",
    "  for pt in dfEquipTags.Tag:\n",
    "    if pt in str(istr): return pt\n",
    "  return \"UndefinedEquipment\"\n",
    "\n",
    "def filterMeas(istr):\n",
    "  wstr=' '+str(istr)+' '\n",
    "  for pt in dfPointTags.Tag:\n",
    "    if pt in wstr: wstr=wstr.replace(' '+pt+' ', ' ')\n",
    "  for pt in dfLocTags.Tag:\n",
    "    if pt in wstr: wstr=wstr.replace(' '+pt+' ', ' ')\n",
    "  for pt in dfEquipTags.Tag:\n",
    "    if pt in wstr: wstr=wstr.replace(' '+pt+' ', ' ')\n",
    "  return wstr.strip()\n",
    "\n",
    "def getLastDim(istr):\n",
    "  if \">\"   not in istr:\n",
    "    return \"UndefinedEquipment\"\n",
    "  else:\n",
    "    sstr=istr.split(\">\")\n",
    "    return sstr[-1] # IndivName(sstr[-1])"
   ]
  },
  {
   "cell_type": "code",
   "execution_count": null,
   "metadata": {
    "collapsed": false
   },
   "outputs": [],
   "source": [
    "removeSynonyms=False\n",
    "synonyms={}\n",
    "for r in dfTagSets.index:\n",
    "  if str(dfTagSets.hasSynonym[r])!=\"nan\":\n",
    "    syn=dfTagSets.hasSynonym[r].split(\";\")\n",
    "    for s in syn:\n",
    "      synonyms[s]=dfTagSets.TagSet[r]"
   ]
  },
  {
   "cell_type": "code",
   "execution_count": null,
   "metadata": {
    "collapsed": false
   },
   "outputs": [],
   "source": [
    "dfTagSets[\"Measurement2\"]=dfTagSets.TagSet\n",
    "dfMM=dfTagSets.Measurement2.ravel()\n",
    "for r in range(len(dfMM)):\n",
    "  dfM=\" \"+str(dfMM[r])+\" \"\n",
    "  if str(dfTagSets.usesLocation[r])!=\"nan\":\n",
    "    for loc in str(dfTagSets.usesLocation[r]).split(\";\"):\n",
    "      dfM=dfM.replace(\" \"+loc.strip()+\" \", \" \")\n",
    "  if str(dfTagSets.usesEquipment[r])!=\"nan\":\n",
    "    for eq in str(dfTagSets.usesEquipment[r]).split(\";\"):\n",
    "      dfM=dfM.replace(\" \"+eq.strip()+\" \", \" \")\n",
    "      if removeSynonyms and eq.strip() in synonyms:\n",
    "        for s in synonyms[eq.strip()].split(' '):\n",
    "          dfM=dfM.replace(\" \"+s+\" \", \" \")\n",
    "  if str(dfTagSets.usesPoint[r])!=\"nan\":\n",
    "    dfM=dfM.replace(\" \"+str(dfTagSets.usesPoint[r])+\" \", \" \")\n",
    "  dfMM[r]=dfM.strip()\n",
    "dfTagSets[\"Measurement2\"]=dfMM"
   ]
  },
  {
   "cell_type": "code",
   "execution_count": null,
   "metadata": {
    "collapsed": false
   },
   "outputs": [],
   "source": []
  },
  {
   "cell_type": "code",
   "execution_count": null,
   "metadata": {
    "collapsed": true
   },
   "outputs": [],
   "source": [
    "#Classify each tagset as a dimension based on their tags\n",
    "dfTagSets['Point']=dfTagSets.TagSet.apply(getPointDim)\n",
    "dfTagSets['MeasurementProperty']=dfTagSets.TagSet.apply(getMeasDim)\n",
    "dfTagSets['Location']=dfTagSets.TagSet.apply(getLocDim)\n",
    "dfTagSets['Parent']=dfTagSets.Dimension.apply(getLastDim)\n",
    "dfTagSets['Measurement']=dfTagSets.TagSet.apply(filterMeas)"
   ]
  },
  {
   "cell_type": "code",
   "execution_count": null,
   "metadata": {
    "collapsed": false
   },
   "outputs": [],
   "source": [
    "# Classify TagSets\n",
    "dfTagSetsEquipment=dfTagSets.loc[dfTagSets.Dimension.str.startswith(\"Equipment\")]\n",
    "dfTagSetsLocation=dfTagSets.loc[dfTagSets.Dimension.str.startswith(\"Location\")]\n",
    "dfTagSetsEqLoc=dfTagSets.loc[dfTagSets.Dimension.str.startswith(\"Equipment\") | dfTagSets.Dimension.str.startswith(\"Location\")]\n",
    "dfTagSetsPoints=dfTagSets.loc[dfTagSets.Dimension.str.startswith(\"Point\")]\n",
    "dfTagSetsMeas=dfTagSets.loc[dfTagSets.Dimension.str.startswith(\"MeasurementProperty\")]"
   ]
  },
  {
   "cell_type": "code",
   "execution_count": null,
   "metadata": {
    "collapsed": false,
    "scrolled": true
   },
   "outputs": [],
   "source": [
    "#dfTagSetsPoints.loc[:,('Measurement','Measurement2')]"
   ]
  },
  {
   "cell_type": "code",
   "execution_count": null,
   "metadata": {
    "collapsed": false
   },
   "outputs": [],
   "source": [
    "#pd.unique(dfPointTagSets['Measurement2'].ravel())"
   ]
  },
  {
   "cell_type": "code",
   "execution_count": null,
   "metadata": {
    "collapsed": false
   },
   "outputs": [],
   "source": [
    "# Missing tags\n",
    "for dim in [\"Location\", \"Equipment\", \"Point\", \"MeasurementProperty\"]:\n",
    "  usedTags=set([t for i in dfTagSets.loc[dfTagSets.Dimension.str.startswith(dim)].TagSet.str.split(' ') for t in i])\n",
    "  defTags =set(dfTags.loc[dfTags.Dimension.str.startswith(dim)].Tag)\n",
    "  #print(\"Missing Tags for \"+dim+\"\\n\"+str(usedTags-defTags)+\"\\n\")"
   ]
  },
  {
   "cell_type": "code",
   "execution_count": null,
   "metadata": {
    "collapsed": false
   },
   "outputs": [],
   "source": [
    "defMeasTagSets=set(dfTagSetsMeas.TagSet)\n",
    "usedMeasTagSets=set(dfTagSetsPoints.Measurement)\n",
    "#print(\"Used TagSets for Measurement\\n\"+str(defMeasTagSets-(defMeasTagSets-usedMeasTagSets))+\"\\n\")\n",
    "#print(\"Unused TagSets for Measurement\\n\"+str(defMeasTagSets-usedMeasTagSets)+\"\\n\")\n",
    "#print(\"Missing TagSets for Measurement\\n\"+str(usedMeasTagSets-defMeasTagSets)+\"\\n\")\n",
    "#usedMeasTagSets=set(dfTagSetsPoints.Measurement2)\n",
    "#print(\"Used TagSets for Measurement\\n\"+str(defMeasTagSets-(defMeasTagSets-usedMeasTagSets))+\"\\n\")\n",
    "#print(\"Unused TagSets for Measurement2\\n\"+str(defMeasTagSets-usedMeasTagSets)+\"\\n\")\n",
    "#print(\"Missing TagSets for Measurement2\\n\"+str(usedMeasTagSets-defMeasTagSets)+\"\\n\")"
   ]
  },
  {
   "cell_type": "code",
   "execution_count": null,
   "metadata": {
    "collapsed": false
   },
   "outputs": [],
   "source": [
    "createEquipmentTagSets=True\n",
    "setEquivalent=False\n",
    "usedMeasOnly=True\n",
    "writeUsedBy=False"
   ]
  },
  {
   "cell_type": "code",
   "execution_count": null,
   "metadata": {
    "collapsed": false
   },
   "outputs": [],
   "source": [
    "tagsetsPoints={}\n",
    "for r in dfTagSetsPoints.index:\n",
    "  if createEquipmentTagSets and dfTagSetsPoints.usesEquipment[r]!='' and str(dfTagSetsPoints.usesEquipment[r])!=\"nan\":\n",
    "    equip=[s.strip() for s in dfTagSetsPoints.usesEquipment[r].split(';')]\n",
    "    equip.append(\"\")\n",
    "  else: equip=[\"\"]\n",
    "  tagsets=set([dfTagSetsPoints.TagSet[r]])  | set(str(dfTagSetsPoints.hasSynonym[r]).split(\",\")) - set(['', 'nan'])\n",
    "  for tagset in tagsets:\n",
    "   for eq in equip:\n",
    "    if eq!=\"\" and eq not in tagset:\n",
    "      ts=eq.replace(\" \", \"_\") + \" \" + tagset\n",
    "    else:\n",
    "      ts=tagset\n",
    "    if ts not in tagsetsPoints:\n",
    "      tagsetsPoints[ts]={\n",
    "        'TagSet':ts,\n",
    "        'Tags':set(ts.split(' ')),\n",
    "        'usesPoint':dfTagSetsPoints.usesPoint[r],\n",
    "        'usesLocation':dfTagSetsPoints.usesLocation[r],\n",
    "        'usesEquipment':dfTagSetsPoints.usesEquipment[r],\n",
    "        'usesMeasurement':dfTagSetsPoints.usesMeasurement[r],\n",
    "        'description':dfTagSetsPoints.Definition[r],\n",
    "        'dimension':dfTagSetsPoints.Dimension[r],\n",
    "        'synonyms':tagsets-set([ts]),\n",
    "        'parent':dfTagSetsPoints.Parent[r],\n",
    "        'parents':set([dfTagSetsPoints.Parent[r].replace('_',' ')]),\n",
    "        'allparents':set([dfTagSetsPoints.Parent[r].replace('_',' ')]),\n",
    "        'measurement':dfTagSetsPoints.Measurement[r],\n",
    "        'measurement2':dfTagSetsPoints.Measurement2[r]\n",
    "      }\n",
    "      if createEquipmentTagSets: \n",
    "         tagsetsPoints[ts]['usesEquipment']=eq\n",
    "      if eq!=\"\" and len(tagsets-set([ts]))>0:  \n",
    "        tagsetsPoints[ts]['synonyms']= [(eq.replace(\" \", \"_\") + \" \" + ts2) for ts2 in (tagsets-set([ts])) if eq not in ts2]\n",
    "      dfM=\" \"+tagset+\" \"\n",
    "      if str(dfTagSets.usesLocation[r])!=\"nan\":\n",
    "        for loc in str(dfTagSets.usesLocation[r]).split(\";\"):\n",
    "          dfM=dfM.replace(\" \"+loc.strip()+\" \", \" \")\n",
    "      if str(dfTagSets.usesEquipment[r])!=\"nan\":\n",
    "        for eq in str(dfTagSets.usesEquipment[r]).split(\";\"):\n",
    "          dfM=dfM.replace(\" \"+eq.strip()+\" \", \" \")\n",
    "          dfM=dfM.replace(\" \"+eq.replace(\" \", \"_\").strip()+\" \", \" \")\n",
    "          if removeSynonyms and eq.strip() in synonyms:\n",
    "            for s in synonyms[eq.strip()].split(' '):\n",
    "              dfM=dfM.replace(\" \"+s+\" \", \" \")\n",
    "      if str(dfTagSets.usesPoint[r])!=\"nan\":\n",
    "        dfM=dfM.replace(\" \"+str(dfTagSets.usesPoint[r])+\" \", \" \")\n",
    "      tagsetsPoints[ts]['measurement2']=dfM.strip()\n",
    "if '' in tagsetsPoints: del tagsetsPoints['']"
   ]
  },
  {
   "cell_type": "code",
   "execution_count": null,
   "metadata": {
    "collapsed": false
   },
   "outputs": [],
   "source": [
    "# determine parent concepts\n",
    "for tsA in tagsetsPoints:\n",
    "  for tsB in tagsetsPoints:\n",
    "    if tagsetsPoints[tsB]['Tags'] < tagsetsPoints[tsA]['Tags']:\n",
    "      tagsetsPoints[tsA]['allparents'].add(tsB)\n",
    "      tagsetsPoints[tsA]['parents'].add(tsB)"
   ]
  },
  {
   "cell_type": "code",
   "execution_count": null,
   "metadata": {
    "collapsed": false
   },
   "outputs": [],
   "source": [
    "# minimize parent concepts\n",
    "for tsA in tagsetsPoints:\n",
    "  rmOldParent=set()\n",
    "  for tsB in tagsetsPoints[tsA]['parents']:\n",
    "    for tsC in tagsetsPoints[tsA]['parents']:\n",
    "       if set(tsB.split(' ')) > set(tsC.split(' ')): # if direct parent\n",
    "        rmOldParent.add(tsC)\n",
    "  for tsC in rmOldParent:\n",
    "    tagsetsPoints[tsA]['parents'].remove(tsC)\n",
    "    #print(\"Remove \"+tsC)    "
   ]
  },
  {
   "cell_type": "code",
   "execution_count": null,
   "metadata": {
    "collapsed": false
   },
   "outputs": [],
   "source": [
    "tagsetsMeas={}\n",
    "if not usedMeasOnly:\n",
    " for r in dfTagSetsMeas.index:\n",
    "  tagsetsMeas[dfTagSetsMeas.TagSet[r]]={\n",
    "    'TagSet':dfTagSetsMeas.TagSet[r],\n",
    "    'Tags':set(dfTagSetsMeas.TagSet[r].split(' ')),\n",
    "    'dimension':dfTagSetsMeas.Dimension[r],\n",
    "    'measdim':getMeasDim(dfTagSetsMeas.TagSet[r]),\n",
    "    'description':dfTagSetsMeas.Definition[r],\n",
    "    'reference':dfTagSetsMeas.Reference[r],\n",
    "    'parent':dfTagSetsMeas.Parent[r],\n",
    "    'parents':set([getMeasDim(dfTagSetsMeas.TagSet[r])]),\n",
    "    'allparents':set([getMeasDim(dfTagSetsMeas.TagSet[r])])\n",
    "  }\n",
    "# add missing\n",
    "meas=[tagsetsPoints[ts]['measurement2'] for ts in tagsetsPoints]\n",
    "for ts in pd.unique(meas):\n",
    "  tagsetsMeas[ts]={\n",
    "    'TagSet':ts,\n",
    "    'Tags':set(ts.split(' ')),\n",
    "    'dimension':'MeasurementProperty',\n",
    "    'measdim':getMeasDim(ts),\n",
    "    'description':'',\n",
    "    'parent':'',\n",
    "    'parents':set([getMeasDim(ts)]),\n",
    "    'allparents':set([getMeasDim(ts)])\n",
    "  }\n",
    "for ts in set(dfMeasTags.Tag)|set(['UndefinedMeasurement']):\n",
    "  tagsetsMeas[ts]={\n",
    "    'TagSet':ts,\n",
    "    'Tags':set([ts]),\n",
    "    'dimension':'MeasurementProperty',\n",
    "    'measdim':'MeasurementProperty',\n",
    "    'description':'',\n",
    "    'parent':'',\n",
    "    'parents':set(['MeasurementProperty']),\n",
    "    'allparents':set(['MeasurementProperty'])\n",
    "  }\n",
    "    \n",
    "if '' in tagsetsMeas: del tagsetsMeas['']"
   ]
  },
  {
   "cell_type": "code",
   "execution_count": null,
   "metadata": {
    "collapsed": false
   },
   "outputs": [],
   "source": [
    "# determine parent concepts\n",
    "for tsA in tagsetsMeas:\n",
    "  for tsB in tagsetsMeas:\n",
    "    if tagsetsMeas[tsB]['Tags'] < tagsetsMeas[tsA]['Tags']:\n",
    "      tagsetsMeas[tsA]['allparents'].add(tsB)\n",
    "      tagsetsMeas[tsA]['parents'].add(tsB)"
   ]
  },
  {
   "cell_type": "code",
   "execution_count": null,
   "metadata": {
    "collapsed": false
   },
   "outputs": [],
   "source": [
    "# minimize parent concepts\n",
    "for tsA in tagsetsMeas:\n",
    "  rmOldParent=set()\n",
    "  for tsB in tagsetsMeas[tsA]['parents']:\n",
    "    for tsC in tagsetsMeas[tsA]['parents']:\n",
    "      #if tagsetsMeas[tsB]['Tags'] > tagsetsMeas[tsC]['Tags']: # if direct parent\n",
    "      if set(tsB.split(' ')) > set(tsC.split(' ')): # if direct parent\n",
    "        rmOldParent.add(tsC)\n",
    "  for tsC in rmOldParent:\n",
    "    tagsetsMeas[tsA]['parents'].remove(tsC)\n",
    "    #print(\"Remove \"+tsC)  "
   ]
  },
  {
   "cell_type": "code",
   "execution_count": null,
   "metadata": {
    "collapsed": false
   },
   "outputs": [],
   "source": [
    "brickTagSets={}\n",
    "for hir in pd.unique(dfTagSets.Dimension.dropna().ravel()):\n",
    "  tags=hir.split('>')\n",
    "  atags=\"\"\n",
    "  for i in range(len(tags)):\n",
    "    tag=tags[i]\n",
    "    otags=atags\n",
    "    #Joern's definition of atags (i.e. class names)\n",
    "    #atags=(atags+\"_\"+tag).strip('_')\n",
    "    #Bharath's definition of class names (atags)\n",
    "    atags=tag.strip('_')\n",
    "    if atags not in brickTagSets:\n",
    "      indivLocName=nsBrickTagSet + IndivName(atags)\n",
    "      if i>0:\n",
    "        foBrick.write(\"\\n \"+indivLocName+\"  rdfs:subClassOf   \"+brickTagSets[otags]+\";\")\n",
    "      else:\n",
    "        foBrick.write(\"\\n \"+indivLocName+\"  rdfs:subClassOf   bf:TagSet;\")\n",
    "      foBrick.write('\\n\\t\\t\\t rdf:type   owl:Class ;')\n",
    "      #foBrick.write('\\n\\t\\t\\t bf:isHierarchical  \"\";')\n",
    "      foBrick.write('\\n\\t\\t\\t rdfs:label \"'+tag+'\"@en .\\n')\n",
    "      brickTagSets[atags]=indivLocName;"
   ]
  },
  {
   "cell_type": "markdown",
   "metadata": {},
   "source": [
    "Add TagSets leaves"
   ]
  },
  {
   "cell_type": "code",
   "execution_count": null,
   "metadata": {
    "collapsed": false
   },
   "outputs": [],
   "source": [
    "# create location individuals\n",
    "for idx in dfTagSetsEqLoc.index:\n",
    "  tagsets=set([str(dfTagSetsEqLoc.loc[idx, \"TagSet\"])]) | set(str(dfTagSetsEqLoc.loc[idx, \"hasSynonym\"]).split(\",\"))\n",
    "  ots=None\n",
    "  for tagset in tagsets:\n",
    "    if tagset!=\"nan\":\n",
    "      parent= brickTagSets[str(dfTagSetsEqLoc.loc[idx, \"Dimension\"]).split('>')[-1]]\n",
    "      indivLocName=nsBrickTagSet + IndivName(tagset)\n",
    "      foBrick.write(\"\\n \"+indivLocName+\"  rdfs:subClassOf   \"+parent+\";\")\n",
    "      foBrick.write('\\n\\t\\t\\t rdf:type   owl:Class ;')\n",
    "      if ots:\n",
    "        foBrick.write('\\n\\t\\t\\t owl:equivalentClass '+ots+';')\n",
    "      foBrick.write('\\n\\t\\t\\t rdfs:label \"'+str(dfTagSetsEqLoc.loc[idx, \"TagSet\"])+'\"@en.\\n')\n",
    "      for tag in tagset.split(): # write to BrickTag\n",
    "        foTag.write('\\n '+nsTagTagSet + IndivName(tagset)+'  bf:usesTag :'+tag+'.')\n",
    "        if writeUsedBy: \n",
    "          foTag.write('\\n :'+tag+'  bf:usedBy '+nsTagTagSet + IndivName(tagset)+'.')\n",
    "      brickTagSets[tagset]=indivLocName;\n",
    "      ots=indivLocName;"
   ]
  },
  {
   "cell_type": "code",
   "execution_count": null,
   "metadata": {
    "collapsed": false
   },
   "outputs": [],
   "source": [
    "# write measurement tagsets\n",
    "for tsA in tagsetsMeas:\n",
    "  ts=tagsetsMeas[tsA]\n",
    "  indivLocName=nsBrickTagSet + IndivName(ts['TagSet'])\n",
    "  supClass=\"\"#\"bf:TagSet\"# + nsBrickTagSet + IndivName(ts['measdim'])\n",
    "  for par in ts['parents']:\n",
    "    supClass = supClass + \", \" + nsBrickTagSet + IndivName(par)\n",
    "  foBrick.write(\"\\n \"+indivLocName+\"  rdfs:subClassOf   \"+supClass.strip(',').strip()+\";\")\n",
    "  foBrick.write('\\n\\t\\t\\t rdf:type   owl:Class ;')\n",
    "  if ts['description']!='' and str(ts['description'])!=\"nan\":\n",
    "    #foBrick.write('\\n\\t\\t\\t rdfs:description \"'+ts['description']+'\"@en;')\n",
    "    foBrick.write('\\n\\t\\t\\t skos:definition \"'+ts['description']+'\"@en ;\\n')\n",
    "  foBrick.write('\\n\\t\\t\\t rdfs:label \"'+ts['TagSet']+'\"@en .\\n')\n",
    "  for tag in ts['Tags']: # write to BrickTag\n",
    "    foTag.write('\\n '+nsTagTagSet + IndivName(ts['TagSet'])+'  bf:usesTag :'+tag+'.')\n",
    "    if writeUsedBy:\n",
    "      foTag.write('\\n :'+tag+'  bf:usedBy '+nsTagTagSet + IndivName(ts['TagSet'])+'.')"
   ]
  },
  {
   "cell_type": "code",
   "execution_count": null,
   "metadata": {
    "collapsed": false
   },
   "outputs": [],
   "source": [
    "#Write point tagsets\n",
    "for tsA in tagsetsPoints:\n",
    "  ts=tagsetsPoints[tsA]\n",
    "  if not ts['parents']:\n",
    "    print(ts)\n",
    "    continue;\n",
    "  tagsets=set([ts['TagSet']])#  | set(str(ts[\"synonyms\"]).split(\",\")) - set(['', 'nan'])\n",
    "  ots=None\n",
    "  for tagset in tagsets:\n",
    "    tagset=tagset.strip()\n",
    "    indivLocName=nsBrickTagSet + IndivName(tagset)\n",
    "    brickTagSets[tagset]=indivLocName;\n",
    "    supClass= \"\" #\"bf:TagSet, \"\n",
    "    for par in ts['parents']:\n",
    "      supClass = supClass + \", \" + nsBrickTagSet + IndivName(par)\n",
    "    foBrick.write(\"\\n \"+indivLocName+\"  rdfs:subClassOf   \"+supClass.strip(',').strip()+\";\")\n",
    "    foBrick.write('\\n\\t\\t\\t rdf:type   owl:Class ;')\n",
    "    if ts['synonyms']!='' and str(ts['synonyms'])!=\"nan\":\n",
    "      for syn in ts['synonyms']:\n",
    "        if setEquivalent:\n",
    "          foBrick.write('\\n\\t\\t\\t owl:equivalentClass '+nsBrickTagSet + IndivName(syn)+';')\n",
    "        else:\n",
    "          foBrick.write('\\n\\t\\t\\t bf:equivalentTagSet '+nsBrickTagSet + IndivName(syn)+';')\n",
    "    ots=indivLocName;\n",
    "    if 'description' in ts and ts['description']!='' and str(ts['description'])!=\"nan\":\n",
    "      #foBrick.write('\\n\\t\\t\\t rdfs:description \"'+getStr(ts['description'].replace('\"',\"'\"))+'\"@en;')\n",
    "      foBrick.write('\\n\\t\\t\\t skos:definition \"'+getStr(ts['description'].replace('\"',\"'\"))+'\"@en;')\n",
    "    if 'reference' in ts and ts['reference']!='' and str(ts['reference'])!=\"nan\":\n",
    "      foBrick.write('\\n\\t\\t\\t rdfs:isDefinedBy \"'+getStr(ts['reference'].replace('\"',\"'\")) + '\"@en ;\\n')\n",
    "    foBrick.write('\\n\\t\\t\\t rdfs:label \"'+ts['TagSet']+'\"@en .\\n')\n",
    "    for tag in ts['Tags']: # write to BrickTag\n",
    "      foTag.write('\\n '+nsTagTagSet + IndivName(tagset)+'  bf:usesTag :'+tag+'.')\n",
    "      if writeUsedBy: \n",
    "        foTag.write('\\n :'+tag+'  bf:usedBy '+nsTagTagSet + IndivName(tagset)+'.')\n",
    "    if ts['usesLocation']!='' and str(ts['usesLocation'])!=\"nan\":\n",
    "      for loc in ts['usesLocation'].split(';'):\n",
    "        foBrick.write('\\n '+indivLocName+' bf:usesLocation :'+IndivName(loc.strip())+'.')\n",
    "        if writeUsedBy: \n",
    "          foBrick.write('\\n :'+IndivName(loc.strip())+'  bf:usedByPoint '+indivLocName+'.')\n",
    "    if ts['usesEquipment']!='' and str(ts['usesEquipment'])!=\"nan\":\n",
    "      for eq in ts['usesEquipment'].split(';'):\n",
    "        foBrick.write('\\n '+indivLocName+' bf:usesEquipment :'+IndivName(eq.strip())+'.')\n",
    "        if writeUsedBy: \n",
    "          foBrick.write('\\n :'+IndivName(eq.strip())+'  bf:usedByPoint '+indivLocName+'.')\n",
    "    if ts['usesPoint']!='' and str(ts['usesPoint'])!=\"nan\":\n",
    "      foBrick.write('\\n '+indivLocName+' bf:usesPoint :'+IndivName(ts['usesPoint'])+'.')\n",
    "      if writeUsedBy: \n",
    "        foBrick.write('\\n :'+IndivName(ts['usesPoint'])+'  bf:usedByPoint '+indivLocName+'.')\n",
    "    if ts['measurement2']!='' and str(ts['measurement2'])!=\"nan\":\n",
    "      foBrick.write('\\n '+indivLocName+' bf:usesMeasurement :'+IndivName(ts['measurement2'])+'.')\n",
    "      if writeUsedBy: \n",
    "        foBrick.write('\\n :'+IndivName(ts['measurement2'])+'  bf:usedByPoint '+indivLocName+'.')\n",
    "    ots=indivLocName;"
   ]
  },
  {
   "cell_type": "code",
   "execution_count": null,
   "metadata": {
    "collapsed": true
   },
   "outputs": [],
   "source": [
    "foBrick.write('\\n')\n",
    "foBrick.close()"
   ]
  },
  {
   "cell_type": "code",
   "execution_count": null,
   "metadata": {
    "collapsed": false
   },
   "outputs": [],
   "source": [
    "# format\n",
    "g = rdflib.Graph()\n",
    "result = g.parse('../dist/Brick.ttl', format='n3')"
   ]
  },
  {
   "cell_type": "code",
   "execution_count": null,
   "metadata": {
    "collapsed": true
   },
   "outputs": [],
   "source": [
    "# rewrite for formating\n",
    "g.serialize(destination='../dist/Brick.ttl', format='turtle')"
   ]
  },
  {
   "cell_type": "code",
   "execution_count": null,
   "metadata": {
    "collapsed": false
   },
   "outputs": [],
   "source": [
    "qres = g.query(\"\"\"SELECT DISTINCT ?ts WHERE {  ?ts rdfs:subClassOf+ bf:TagSet . }\"\"\")\n",
    "brickTagSets=set()\n",
    "brickTagSetTags={}\n",
    "for row in qres:\n",
    "  ts=ns(row['ts'])\n",
    "  brickTagSets.add(ts)\n",
    "  brickTagSetTags[ts]=set(ts.split('_'))\n",
    "len(brickTagSets)"
   ]
  },
  {
   "cell_type": "markdown",
   "metadata": {},
   "source": [
    "### Write Tags"
   ]
  },
  {
   "cell_type": "markdown",
   "metadata": {},
   "source": [
    "Write Tag Hierachy"
   ]
  },
  {
   "cell_type": "code",
   "execution_count": null,
   "metadata": {
    "collapsed": false
   },
   "outputs": [],
   "source": [
    "brickTags={}\n",
    "for hir in pd.unique(dfTags.Dimension.dropna().ravel()):\n",
    "  tags=hir.split('>')\n",
    "  atags=\"\"\n",
    "  for i in range(len(tags)):\n",
    "    tag=tags[i]\n",
    "    otags=atags\n",
    "    atags=(atags+\"_\"+tag).strip(\"_\")\n",
    "    if atags not in brickTags:\n",
    "      indivLocName=nsTagTag+IndivName(atags)\n",
    "      if i>0:\n",
    "        foTag.write(\"\\n \"+indivLocName+\"  rdfs:subClassOf   \"+brickTags[otags]+\";\")\n",
    "        #foTag.write(\"\\n \"+indivLocName+\"  rdfs:subClassOf   bf:Tag;\")\n",
    "      else:\n",
    "        foTag.write(\"\\n \"+indivLocName+\"  rdfs:subClassOf   bf:Tag;\")\n",
    "      foTag.write('\\n\\t\\t\\t rdf:type   owl:Class ;')\n",
    "      foTag.write('\\n\\t\\t\\t bf:isHierarchical  \"\";')\n",
    "      foTag.write('\\n\\t\\t\\t skos:definition \"\"@en ;\\n')\n",
    "      foTag.write('\\n\\t\\t\\t rdfs:label \"'+tag+'\"@en .\\n')\n",
    "      brickTags[atags]=indivLocName;\n",
    "      parent=tag;"
   ]
  },
  {
   "cell_type": "markdown",
   "metadata": {},
   "source": [
    "Add tag leaves"
   ]
  },
  {
   "cell_type": "code",
   "execution_count": null,
   "metadata": {
    "collapsed": false
   },
   "outputs": [],
   "source": [
    "# create location individuals\n",
    "for idx in dfTags.index:\n",
    "  #parent=brickTags[str(dfTags.loc[idx, \"Dimension\"]).split('>')[-1]]\n",
    "  parent=brickTags[str(dfTags.loc[idx, \"Dimension\"]).replace('>','_')]\n",
    "  indivLocName=nsTagTag + IndivName(str(dfTags.loc[idx, \"Tag\"]))\n",
    "  #foTag.write(\"\\n \"+indivLocName+\"  rdfs:subClassOf   \"+parent+\";\")\n",
    "  foTag.write(\"\\n \"+indivLocName+\"  rdfs:subClassOf   bf:Tag;\")\n",
    "  foTag.write('\\n\\t\\t\\t rdf:type   owl:Class ;')\n",
    "  foTag.write('\\n\\t\\t\\t skos:definition \"'+getStr(dfTags.loc[idx, \"Definition\"])+'\"@en ;\\n')\n",
    "  foTag.write('\\n\\t\\t\\t rdfs:label \"'+str(dfTags.loc[idx, \"Tag\"])+'\"@en .\\n')\n",
    "  brickTags[tag]=indivLocName;\n",
    "  #print(parent,indivLocName)"
   ]
  },
  {
   "cell_type": "code",
   "execution_count": null,
   "metadata": {
    "collapsed": true
   },
   "outputs": [],
   "source": [
    "foTag.close()"
   ]
  },
  {
   "cell_type": "code",
   "execution_count": null,
   "metadata": {
    "collapsed": false
   },
   "outputs": [],
   "source": [
    "# format\n",
    "g = rdflib.Graph()\n",
    "result = g.parse('../dist/BrickTag.ttl', format='n3')"
   ]
  },
  {
   "cell_type": "code",
   "execution_count": null,
   "metadata": {
    "collapsed": true
   },
   "outputs": [],
   "source": [
    "# rewrite for formating\n",
    "g.serialize(destination='../dist/BrickTag.ttl', format='turtle')"
   ]
  }
 ],
 "metadata": {
  "anaconda-cloud": {},
  "kernelspec": {
   "display_name": "Python [Root]",
   "language": "python",
   "name": "Python [Root]"
  },
  "language_info": {
   "codemirror_mode": {
    "name": "ipython",
    "version": 3
   },
   "file_extension": ".py",
   "mimetype": "text/x-python",
   "name": "python",
   "nbconvert_exporter": "python",
   "pygments_lexer": "ipython3",
   "version": "3.5.2"
  }
 },
 "nbformat": 4,
 "nbformat_minor": 0
}
