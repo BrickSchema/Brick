{
 "cells": [
  {
   "cell_type": "code",
   "execution_count": 1,
   "metadata": {
    "collapsed": false
   },
   "outputs": [],
   "source": [
    "#!pip install rdflib\n",
    "#!pip install pydot2\n",
    "#!pip install pydotplus"
   ]
  },
  {
   "cell_type": "code",
   "execution_count": 2,
   "metadata": {
    "collapsed": false
   },
   "outputs": [],
   "source": [
    "import rdflib\n",
    "from rdflib.namespace import RDFS\n",
    "from rdflib import URIRef, BNode, Literal\n",
    "import re\n",
    "from collections import defaultdict\n",
    "import numpy as np\n",
    "import pandas as pd\n",
    "import json"
   ]
  },
  {
   "cell_type": "code",
   "execution_count": 3,
   "metadata": {
    "collapsed": false
   },
   "outputs": [
    {
     "name": "stdout",
     "output_type": "stream",
     "text": [
      "145\n"
     ]
    }
   ],
   "source": [
    "def ns(url):\n",
    "  url = url.replace(\"http://buildsys.org/ontologies/brick#\", \"\")\n",
    "  url = url.replace(\"http://buildsys.org/ontologies/brickFrame#\", \"\")\n",
    "  return url\n",
    "\n",
    "BRICKF = rdflib.Namespace('http://buildsys.org/ontologies/brickFrame#')\n",
    "BRICK  = rdflib.Namespace('http://buildsys.org/ontologies/brick#')\n",
    "TAG    = rdflib.Namespace('http://buildsys.org/ontologies/brickTag#')\n",
    "TAGSET = rdflib.Namespace('http://buildsys.org/ontologies/brickTagSet#')\n",
    "\n",
    "g = rdflib.Graph()\n",
    "g.bind('bf', BRICKF)\n",
    "g.bind('tag', TAG)\n",
    "g.bind('ts', TAGSET)\n",
    "g.bind(':', BRICK)\n",
    "result = g.parse('BrickFrame.ttl', format='n3')\n",
    "print(len(g))"
   ]
  },
  {
   "cell_type": "markdown",
   "metadata": {},
   "source": [
    "### Load Tag and TagSets from Definition"
   ]
  },
  {
   "cell_type": "code",
   "execution_count": 4,
   "metadata": {
    "collapsed": true
   },
   "outputs": [],
   "source": [
    "#r = requests.get('docs.google.com/feeds/download/spreadsheets/Export?key=1QTSu0UxJ7UqRvgTW2P1Q4qudoBbvPqXpEhYiulyjcro&exportFormat=xlsx')\n",
    "#r.status_code"
   ]
  },
  {
   "cell_type": "code",
   "execution_count": 5,
   "metadata": {
    "collapsed": false
   },
   "outputs": [
    {
     "data": {
      "text/html": [
       "<div>\n",
       "<table border=\"1\" class=\"dataframe\">\n",
       "  <thead>\n",
       "    <tr style=\"text-align: right;\">\n",
       "      <th></th>\n",
       "      <th>Dimension</th>\n",
       "      <th>Tag</th>\n",
       "      <th>Definition</th>\n",
       "      <th>Related Terminologies</th>\n",
       "      <th>hasSynonym</th>\n",
       "      <th>Author</th>\n",
       "      <th>Reviewed</th>\n",
       "      <th>Review Count</th>\n",
       "      <th>Comments</th>\n",
       "    </tr>\n",
       "  </thead>\n",
       "  <tbody>\n",
       "    <tr>\n",
       "      <th>0</th>\n",
       "      <td>Equipment&gt;HVAC</td>\n",
       "      <td>HX</td>\n",
       "      <td>Heat Exchanger</td>\n",
       "      <td>NaN</td>\n",
       "      <td>NaN</td>\n",
       "      <td>NaN</td>\n",
       "      <td>NaN</td>\n",
       "      <td>NaN</td>\n",
       "      <td>NaN</td>\n",
       "    </tr>\n",
       "    <tr>\n",
       "      <th>1</th>\n",
       "      <td>Equipment&gt;Fire Safety System</td>\n",
       "      <td>FCP</td>\n",
       "      <td>Fire Control Panel</td>\n",
       "      <td>NaN</td>\n",
       "      <td>NaN</td>\n",
       "      <td>NaN</td>\n",
       "      <td>NaN</td>\n",
       "      <td>NaN</td>\n",
       "      <td>NaN</td>\n",
       "    </tr>\n",
       "    <tr>\n",
       "      <th>2</th>\n",
       "      <td>Equipment&gt;Water System</td>\n",
       "      <td>CWS</td>\n",
       "      <td>Chilled Water System</td>\n",
       "      <td>NaN</td>\n",
       "      <td>NaN</td>\n",
       "      <td>NaN</td>\n",
       "      <td>NaN</td>\n",
       "      <td>NaN</td>\n",
       "      <td>NaN</td>\n",
       "    </tr>\n",
       "    <tr>\n",
       "      <th>3</th>\n",
       "      <td>Equipment&gt;Water System</td>\n",
       "      <td>DHWS</td>\n",
       "      <td>Domestic Hot Water System</td>\n",
       "      <td>NaN</td>\n",
       "      <td>NaN</td>\n",
       "      <td>NaN</td>\n",
       "      <td>NaN</td>\n",
       "      <td>NaN</td>\n",
       "      <td>NaN</td>\n",
       "    </tr>\n",
       "    <tr>\n",
       "      <th>4</th>\n",
       "      <td>Equipment&gt;Water System</td>\n",
       "      <td>HWS</td>\n",
       "      <td>Hot Water System</td>\n",
       "      <td>NaN</td>\n",
       "      <td>NaN</td>\n",
       "      <td>NaN</td>\n",
       "      <td>NaN</td>\n",
       "      <td>NaN</td>\n",
       "      <td>NaN</td>\n",
       "    </tr>\n",
       "  </tbody>\n",
       "</table>\n",
       "</div>"
      ],
      "text/plain": [
       "                      Dimension   Tag                 Definition  \\\n",
       "0                Equipment>HVAC    HX             Heat Exchanger   \n",
       "1  Equipment>Fire Safety System   FCP         Fire Control Panel   \n",
       "2        Equipment>Water System   CWS       Chilled Water System   \n",
       "3        Equipment>Water System  DHWS  Domestic Hot Water System   \n",
       "4        Equipment>Water System   HWS           Hot Water System   \n",
       "\n",
       "  Related Terminologies hasSynonym Author  Reviewed  Review Count Comments  \n",
       "0                   NaN        NaN    NaN       NaN           NaN      NaN  \n",
       "1                   NaN        NaN    NaN       NaN           NaN      NaN  \n",
       "2                   NaN        NaN    NaN       NaN           NaN      NaN  \n",
       "3                   NaN        NaN    NaN       NaN           NaN      NaN  \n",
       "4                   NaN        NaN    NaN       NaN           NaN      NaN  "
      ]
     },
     "execution_count": 5,
     "metadata": {},
     "output_type": "execute_result"
    }
   ],
   "source": [
    "dfTags=pd.read_excel('src/Schema Engineering.xlsx',\"Tags\")\n",
    "schemaTags=set(pd.unique(dfTags.Tag.dropna().ravel()))\n",
    "len(schemaTags)\n",
    "dfTags.head()"
   ]
  },
  {
   "cell_type": "code",
   "execution_count": 6,
   "metadata": {
    "collapsed": false
   },
   "outputs": [
    {
     "data": {
      "text/html": [
       "<div>\n",
       "<table border=\"1\" class=\"dataframe\">\n",
       "  <thead>\n",
       "    <tr style=\"text-align: right;\">\n",
       "      <th></th>\n",
       "      <th>Dimension</th>\n",
       "      <th>TagSet</th>\n",
       "      <th>usesEquipment</th>\n",
       "      <th>isPartOf</th>\n",
       "      <th>hasSynonym</th>\n",
       "      <th>Definition</th>\n",
       "      <th>hasUnit</th>\n",
       "      <th>hasAbbreviation</th>\n",
       "      <th>can be named? (can be instantiated?)</th>\n",
       "      <th>can be unnamed? (cannot be instantiated?)</th>\n",
       "      <th>Author</th>\n",
       "      <th>Reviewed</th>\n",
       "      <th>Review Count</th>\n",
       "      <th>Discussion</th>\n",
       "      <th>usesPoint</th>\n",
       "      <th>usesLocation</th>\n",
       "      <th>usesMeasurement</th>\n",
       "    </tr>\n",
       "  </thead>\n",
       "  <tbody>\n",
       "    <tr>\n",
       "      <th>0</th>\n",
       "      <td>Equipment</td>\n",
       "      <td>Elevator</td>\n",
       "      <td>NaN</td>\n",
       "      <td>NaN</td>\n",
       "      <td>NaN</td>\n",
       "      <td>NaN</td>\n",
       "      <td>NaN</td>\n",
       "      <td>NaN</td>\n",
       "      <td>NaN</td>\n",
       "      <td>NaN</td>\n",
       "      <td>NaN</td>\n",
       "      <td>NaN</td>\n",
       "      <td>NaN</td>\n",
       "      <td>NaN</td>\n",
       "      <td>NaN</td>\n",
       "      <td>NaN</td>\n",
       "      <td>NaN</td>\n",
       "    </tr>\n",
       "    <tr>\n",
       "      <th>1</th>\n",
       "      <td>Equipment</td>\n",
       "      <td>Energy Storage</td>\n",
       "      <td>NaN</td>\n",
       "      <td>NaN</td>\n",
       "      <td>NaN</td>\n",
       "      <td>NaN</td>\n",
       "      <td>NaN</td>\n",
       "      <td>NaN</td>\n",
       "      <td>NaN</td>\n",
       "      <td>NaN</td>\n",
       "      <td>NaN</td>\n",
       "      <td>NaN</td>\n",
       "      <td>NaN</td>\n",
       "      <td>NaN</td>\n",
       "      <td>NaN</td>\n",
       "      <td>NaN</td>\n",
       "      <td>NaN</td>\n",
       "    </tr>\n",
       "    <tr>\n",
       "      <th>2</th>\n",
       "      <td>Equipment</td>\n",
       "      <td>Fire Safety System</td>\n",
       "      <td>NaN</td>\n",
       "      <td>NaN</td>\n",
       "      <td>NaN</td>\n",
       "      <td>NaN</td>\n",
       "      <td>NaN</td>\n",
       "      <td>NaN</td>\n",
       "      <td>NaN</td>\n",
       "      <td>NaN</td>\n",
       "      <td>NaN</td>\n",
       "      <td>NaN</td>\n",
       "      <td>NaN</td>\n",
       "      <td>NaN</td>\n",
       "      <td>NaN</td>\n",
       "      <td>NaN</td>\n",
       "      <td>NaN</td>\n",
       "    </tr>\n",
       "    <tr>\n",
       "      <th>3</th>\n",
       "      <td>Equipment</td>\n",
       "      <td>Heating Ventilation Air Conditioning System</td>\n",
       "      <td>NaN</td>\n",
       "      <td>NaN</td>\n",
       "      <td>HVAC</td>\n",
       "      <td>NaN</td>\n",
       "      <td>NaN</td>\n",
       "      <td>NaN</td>\n",
       "      <td>NaN</td>\n",
       "      <td>NaN</td>\n",
       "      <td>NaN</td>\n",
       "      <td>NaN</td>\n",
       "      <td>NaN</td>\n",
       "      <td>NaN</td>\n",
       "      <td>NaN</td>\n",
       "      <td>NaN</td>\n",
       "      <td>NaN</td>\n",
       "    </tr>\n",
       "    <tr>\n",
       "      <th>4</th>\n",
       "      <td>Equipment</td>\n",
       "      <td>Lighting System</td>\n",
       "      <td>NaN</td>\n",
       "      <td>NaN</td>\n",
       "      <td>NaN</td>\n",
       "      <td>NaN</td>\n",
       "      <td>NaN</td>\n",
       "      <td>NaN</td>\n",
       "      <td>NaN</td>\n",
       "      <td>NaN</td>\n",
       "      <td>NaN</td>\n",
       "      <td>NaN</td>\n",
       "      <td>NaN</td>\n",
       "      <td>NaN</td>\n",
       "      <td>NaN</td>\n",
       "      <td>NaN</td>\n",
       "      <td>NaN</td>\n",
       "    </tr>\n",
       "  </tbody>\n",
       "</table>\n",
       "</div>"
      ],
      "text/plain": [
       "   Dimension                                       TagSet usesEquipment  \\\n",
       "0  Equipment                                     Elevator           NaN   \n",
       "1  Equipment                               Energy Storage           NaN   \n",
       "2  Equipment                           Fire Safety System           NaN   \n",
       "3  Equipment  Heating Ventilation Air Conditioning System           NaN   \n",
       "4  Equipment                              Lighting System           NaN   \n",
       "\n",
       "  isPartOf hasSynonym Definition hasUnit hasAbbreviation  \\\n",
       "0      NaN        NaN        NaN     NaN             NaN   \n",
       "1      NaN        NaN        NaN     NaN             NaN   \n",
       "2      NaN        NaN        NaN     NaN             NaN   \n",
       "3      NaN       HVAC        NaN     NaN             NaN   \n",
       "4      NaN        NaN        NaN     NaN             NaN   \n",
       "\n",
       "  can be named? (can be instantiated?)  \\\n",
       "0                                  NaN   \n",
       "1                                  NaN   \n",
       "2                                  NaN   \n",
       "3                                  NaN   \n",
       "4                                  NaN   \n",
       "\n",
       "  can be unnamed? (cannot be instantiated?) Author  Reviewed  Review Count  \\\n",
       "0                                       NaN    NaN       NaN           NaN   \n",
       "1                                       NaN    NaN       NaN           NaN   \n",
       "2                                       NaN    NaN       NaN           NaN   \n",
       "3                                       NaN    NaN       NaN           NaN   \n",
       "4                                       NaN    NaN       NaN           NaN   \n",
       "\n",
       "  Discussion usesPoint usesLocation  usesMeasurement  \n",
       "0        NaN       NaN          NaN              NaN  \n",
       "1        NaN       NaN          NaN              NaN  \n",
       "2        NaN       NaN          NaN              NaN  \n",
       "3        NaN       NaN          NaN              NaN  \n",
       "4        NaN       NaN          NaN              NaN  "
      ]
     },
     "execution_count": 6,
     "metadata": {},
     "output_type": "execute_result"
    }
   ],
   "source": [
    "dfTagSets=pd.read_excel('src/Schema Engineering.xlsx',\"TagSets\")\n",
    "schemaTagSets=set()\n",
    "for ts in pd.unique(dfTagSets.TagSet.dropna().ravel()):\n",
    "  schemaTagSets.add(ts.replace(' ','_'))\n",
    "for ts in pd.unique(dfTagSets.hasSynonym.dropna().ravel()):\n",
    "  for ts2 in ts.split(\",\"):\n",
    "   schemaTagSets.add(ts2.replace(' ','_'))\n",
    "for row in pd.unique(dfTagSets.usesEquipment.dropna().ravel()):\n",
    "  for ts in row.split(';'):\n",
    "    schemaTagSets.add(ts.replace(' ','_'))\n",
    "for row in pd.unique(dfTagSets.isPartOf.dropna().ravel()):\n",
    "  for ts in row.split(';'):\n",
    "    schemaTagSets.add(ts.replace(' ','_'))\n",
    "len(schemaTagSets)\n",
    "dfTagSets.head()"
   ]
  },
  {
   "cell_type": "code",
   "execution_count": 7,
   "metadata": {
    "collapsed": false
   },
   "outputs": [
    {
     "name": "stdout",
     "output_type": "stream",
     "text": [
      "Missing Tags:1\n",
      "{''}\n"
     ]
    }
   ],
   "source": [
    "schemaUsedTags=set()\n",
    "schemaTagSetTags={}\n",
    "for ts in schemaTagSets:\n",
    "  schemaUsedTags.update(ts.split('_'))\n",
    "  schemaTagSetTags[ts]=set(ts.split('_'))\n",
    "schemaMissingTags=schemaUsedTags - schemaTags\n",
    "print(\"Missing Tags:\" + str(len(schemaMissingTags)))\n",
    "print(schemaMissingTags)"
   ]
  },
  {
   "cell_type": "code",
   "execution_count": 8,
   "metadata": {
    "collapsed": true
   },
   "outputs": [],
   "source": [
    "def IndivName(name):\n",
    "  return re.sub(r'\\s','_',re.sub(r'[^\\d\\w\\s]', '', name))"
   ]
  },
  {
   "cell_type": "code",
   "execution_count": 9,
   "metadata": {
    "collapsed": true
   },
   "outputs": [],
   "source": [
    "def getStr(s):\n",
    "  if type(s)=='str' or type(s)=='unicode':\n",
    "    return s\n",
    "  else:\n",
    "    return ''"
   ]
  },
  {
   "cell_type": "markdown",
   "metadata": {},
   "source": [
    "### Write Tags"
   ]
  },
  {
   "cell_type": "markdown",
   "metadata": {},
   "source": [
    "write header"
   ]
  },
  {
   "cell_type": "code",
   "execution_count": 10,
   "metadata": {
    "collapsed": false
   },
   "outputs": [
    {
     "data": {
      "text/plain": [
       "44"
      ]
     },
     "execution_count": 10,
     "metadata": {},
     "output_type": "execute_result"
    }
   ],
   "source": [
    "nsTag   = \":\"\n",
    "fo = open('BrickTag.ttl', 'w')\n",
    "fo.write(\"\"\"@prefix owl: <http://www.w3.org/2002/07/owl#> .\n",
    "@prefix rdf: <http://www.w3.org/1999/02/22-rdf-syntax-ns#> .\n",
    "@prefix rdfs: <http://www.w3.org/2000/01/rdf-schema#> .\n",
    "@prefix skos: <http://www.w3.org/2004/02/skos/core#> .\\n\"\"\")\n",
    "fo.write(\"@prefix bf:  <http://buildsys.org/ontologies/BrickFrame#> .\\n\")\n",
    "fo.write(\"@prefix : <http://buildsys.org/ontologies/BrickTag#> .\\n\\n\")\n",
    "fo.write(\"<http://buildsys.org/ontologies/BrickTag>  a owl:Ontology ;\\n\")\n",
    "fo.write(\"\\towl:imports <http://buildsys.org/ontologies/BrickFrame> ;\\n\")\n",
    "fo.write('\\trdfs:comment \"Domain Tag Definition\"@en .\\n\\n')"
   ]
  },
  {
   "cell_type": "markdown",
   "metadata": {},
   "source": [
    "Write Tag Hierachy"
   ]
  },
  {
   "cell_type": "code",
   "execution_count": 11,
   "metadata": {
    "collapsed": false
   },
   "outputs": [],
   "source": [
    "brickTags={}\n",
    "for hir in pd.unique(dfTags.Dimension.dropna().ravel()):\n",
    "  tags=hir.split('>')\n",
    "  atags=\"\"\n",
    "  for i in range(len(tags)):\n",
    "    tag=tags[i]\n",
    "    otags=atags\n",
    "    atags=(atags+\"_\"+tag).strip(\"_\")\n",
    "    if atags not in brickTags:\n",
    "      indivLocName=nsTag+IndivName(atags)\n",
    "      if i>0:\n",
    "        fo.write(\"\\n \"+indivLocName+\"  rdfs:subClassOf   \"+brickTags[otags]+\";\")\n",
    "      else:\n",
    "        fo.write(\"\\n \"+indivLocName+\"  rdfs:subClassOf   bf:Tag;\")\n",
    "      fo.write('\\n\\t\\t\\t rdf:type   owl:Class ;')\n",
    "      fo.write('\\n\\t\\t\\t bf:isHierarchical  \"\";')\n",
    "      fo.write('\\n\\t\\t\\t skos:definition \"\"@en ;\\n')\n",
    "      fo.write('\\n\\t\\t\\t rdfs:label \"'+tag+'\"@en .\\n')\n",
    "      brickTags[atags]=indivLocName;\n",
    "      parent=tag;"
   ]
  },
  {
   "cell_type": "markdown",
   "metadata": {},
   "source": [
    "Add tag leaves"
   ]
  },
  {
   "cell_type": "code",
   "execution_count": 12,
   "metadata": {
    "collapsed": false
   },
   "outputs": [],
   "source": [
    "# create location individuals\n",
    "for idx in dfTags.index:\n",
    "  #parent=brickTags[str(dfTags.loc[idx, \"Dimension\"]).split('>')[-1]]\n",
    "  parent=brickTags[str(dfTags.loc[idx, \"Dimension\"]).replace('>','_')]\n",
    "  indivLocName=nsTag + IndivName(str(dfTags.loc[idx, \"Tag\"]))\n",
    "  fo.write(\"\\n \"+indivLocName+\"  rdfs:subClassOf   \"+parent+\";\")\n",
    "  fo.write('\\n\\t\\t\\t rdf:type   owl:Class ;')\n",
    "  fo.write('\\n\\t\\t\\t skos:definition \"'+getStr(dfTags.loc[idx, \"Definition\"])+'\"@en ;\\n')\n",
    "  fo.write('\\n\\t\\t\\t rdfs:label \"'+str(dfTags.loc[idx, \"Tag\"])+'\"@en .\\n')\n",
    "  brickTags[tag]=indivLocName;\n",
    "  #print(parent,indivLocName)"
   ]
  },
  {
   "cell_type": "code",
   "execution_count": 13,
   "metadata": {
    "collapsed": true
   },
   "outputs": [],
   "source": [
    "fo.close()"
   ]
  },
  {
   "cell_type": "code",
   "execution_count": 14,
   "metadata": {
    "collapsed": true
   },
   "outputs": [],
   "source": [
    "# format\n",
    "g = rdflib.Graph()\n",
    "result = g.parse('BrickTag.ttl', format='n3')\n",
    "g.serialize(destination='BrickTag.ttl', format='turtle')"
   ]
  },
  {
   "cell_type": "markdown",
   "metadata": {},
   "source": [
    "### Write TagSets"
   ]
  },
  {
   "cell_type": "markdown",
   "metadata": {},
   "source": [
    "write headers"
   ]
  },
  {
   "cell_type": "code",
   "execution_count": 15,
   "metadata": {
    "collapsed": false
   },
   "outputs": [
    {
     "data": {
      "text/plain": [
       "47"
      ]
     },
     "execution_count": 15,
     "metadata": {},
     "output_type": "execute_result"
    }
   ],
   "source": [
    "nsTag= \"tag:\" # \"ts:\"\n",
    "nsTagSet= \":\" # \"ts:\"\n",
    "fo = open('Brick.ttl', 'w')\n",
    "fo.write(\"\"\"@prefix owl: <http://www.w3.org/2002/07/owl#> .\n",
    "@prefix rdf: <http://www.w3.org/1999/02/22-rdf-syntax-ns#> .\n",
    "@prefix rdfs: <http://www.w3.org/2000/01/rdf-schema#> .\n",
    "@prefix skos: <http://www.w3.org/2004/02/skos/core#> .\\n\"\"\")\n",
    "fo.write(\"@prefix bf:  <http://buildsys.org/ontologies/BrickFrame#> .\\n\")\n",
    "fo.write(\"@prefix tag: <http://buildsys.org/ontologies/BrickTag#> .\\n\")\n",
    "fo.write(\"@prefix :    <http://buildsys.org/ontologies/Brick#> .\\n\\n\")\n",
    "fo.write(\"<http://buildsys.org/ontologies/Brick>  a owl:Ontology ;\\n\")\n",
    "fo.write(\"\\towl:imports <http://buildsys.org/ontologies/BrickFrame> ;\\n\")\n",
    "fo.write(\"\\towl:imports <http://buildsys.org/ontologies/BrickTag> ;\\n\")\n",
    "fo.write('\\trdfs:comment \"Domain TagSet Definition\"@en .\\n\\n')"
   ]
  },
  {
   "cell_type": "markdown",
   "metadata": {},
   "source": [
    "Write TagSet Hierachy"
   ]
  },
  {
   "cell_type": "code",
   "execution_count": 16,
   "metadata": {
    "collapsed": false
   },
   "outputs": [],
   "source": [
    "brickTagSets={}\n",
    "for hir in pd.unique(dfTagSets.Dimension.dropna().ravel()):\n",
    "  tags=hir.split('>')\n",
    "  atags=\"\"\n",
    "  for i in range(len(tags)):\n",
    "    tag=tags[i]\n",
    "    otags=atags\n",
    "    #Joern's definition of atags (i.e. class names)\n",
    "    #atags=(atags+\"_\"+tag).strip('_')\n",
    "    #Bharath's definition of class names (atags)\n",
    "    atags=tag.strip('_')\n",
    "    if atags not in brickTagSets:\n",
    "      indivLocName=nsTagSet + IndivName(atags)\n",
    "      if i>0:\n",
    "        fo.write(\"\\n \"+indivLocName+\"  rdfs:subClassOf   \"+brickTagSets[otags]+\";\")\n",
    "      else:\n",
    "        fo.write(\"\\n \"+indivLocName+\"  rdfs:subClassOf   bf:TagSet;\")\n",
    "      fo.write('\\n\\t\\t\\t rdf:type   owl:Class ;')\n",
    "      #fo.write('\\n\\t\\t\\t bf:isHierarchical  \"\";')\n",
    "      fo.write('\\n\\t\\t\\t skos:definition \"\"@en ;\\n')\n",
    "      fo.write('\\n\\t\\t\\t rdfs:label \"'+tag+'\"@en .\\n')\n",
    "      brickTagSets[atags]=indivLocName;"
   ]
  },
  {
   "cell_type": "markdown",
   "metadata": {},
   "source": [
    "Add TagSets leaves"
   ]
  },
  {
   "cell_type": "code",
   "execution_count": 17,
   "metadata": {
    "collapsed": false
   },
   "outputs": [],
   "source": [
    "# create location individuals\n",
    "for idx in dfTagSets.index:\n",
    "  tagsets=set([str(dfTagSets.loc[idx, \"TagSet\"])]) | set(str(dfTagSets.loc[idx, \"hasSynonym\"]).split(\",\"))\n",
    "  ots=None\n",
    "  for tagset in tagsets:\n",
    "    if tagset!=\"nan\":\n",
    "        #tagset=str(dfTagSets.loc[idx, \"TagSet\"])\n",
    "      #Bharath's definition of parent\n",
    "      parent= brickTagSets[str(dfTagSets.loc[idx, \"Dimension\"]).split('>')[-1]]\n",
    "      #Joern's definition of parent\n",
    "      #parent= brickTagSets[str(dfTagSets.loc[idx, \"Dimension\"]).replace('>',\"_\")]\n",
    "      indivLocName=nsTagSet + IndivName(tagset)\n",
    "      fo.write(\"\\n \"+indivLocName+\"  rdfs:subClassOf   \"+parent+\";\")\n",
    "      fo.write('\\n\\t\\t\\t rdf:type   owl:Class ;')\n",
    "      for tag in tagset.split():\n",
    "         #fo.write('\\n\\t\\t\\t rdfs:subClassOf [ a owl:Restriction ; owl:onProperty :hasTag ; owl:someValuesFrom tag:'+tag+' ];')\n",
    "        fo.write('\\n\\t\\t\\t bf:usesTag tag:'+tag+';')\n",
    "      if ots:\n",
    "        fo.write('\\n\\t\\t\\t owl:equivalentClass '+ots+' ;')\n",
    "      fo.write('\\n\\t\\t\\t skos:definition \"'+getStr(dfTagSets.loc[idx, \"Definition\"])+'\"@en ;\\n')\n",
    "      fo.write('\\n\\t\\t\\t rdfs:label \"'+str(dfTagSets.loc[idx, \"TagSet\"])+'\"@en .\\n')\n",
    "      brickTagSets[tagset]=indivLocName;\n",
    "      ots=indivLocName;\n",
    "      #print(parent,indivLocName)"
   ]
  },
  {
   "cell_type": "code",
   "execution_count": 18,
   "metadata": {
    "collapsed": false
   },
   "outputs": [],
   "source": [
    "fo.close()"
   ]
  },
  {
   "cell_type": "markdown",
   "metadata": {
    "collapsed": false
   },
   "source": [
    "### New Structure"
   ]
  },
  {
   "cell_type": "markdown",
   "metadata": {},
   "source": [
    "Classify Tags by Type"
   ]
  },
  {
   "cell_type": "code",
   "execution_count": 19,
   "metadata": {
    "collapsed": true
   },
   "outputs": [],
   "source": [
    "#Classify tags by dimension from \"Tags\" sheet in Schema Engineering\n",
    "dfMeasTags  = dfTags.loc[dfTags.Dimension == \"MeasurementProperty>PhysicalProperties\"]\n",
    "dfMeasPropTags = dfTags.loc[dfTags.Dimension.str.startswith(\"MeasurementProperty\")]\n",
    "dfLocTags   = dfTags.loc[dfTags.Dimension == \"Location\"]\n",
    "dfPointTags = dfTags.loc[dfTags.Dimension == \"Point\"]\n",
    "dfEquipTags = dfTags.loc[dfTags.Dimension.str.startswith(\"Equipment\")]\n",
    "\n",
    "#Identify dimensions based on tags\n",
    "def getPointDim(istr):\n",
    "  for pt in dfPointTags.Tag:\n",
    "    if pt in str(istr): return pt\n",
    "  return \"UndefinedPoint\"\n",
    "\n",
    "def getMeasDim(istr):\n",
    "  for pt in dfMeasTags.Tag:\n",
    "    if pt in str(istr): return pt\n",
    "  return \"UndefinedMeasurement\"\n",
    "\n",
    "def getLocDim(istr):\n",
    "  for pt in dfLocTags.Tag:\n",
    "    if pt in str(istr): return pt\n",
    "  return \"UndefinedLocation\"\n",
    "\n",
    "def getEquipDim(istr):\n",
    "  for pt in dfEquipTags.Tag:\n",
    "    if pt in str(istr): return pt\n",
    "  return \"UndefinedEquipment\"\n",
    "\n",
    "def filterMeas(istr):\n",
    "  wstr=' '+str(istr)+' '\n",
    "  for pt in dfPointTags.Tag:\n",
    "    if pt in wstr: wstr=wstr.replace(' '+pt+' ', ' ')\n",
    "  for pt in dfLocTags.Tag:\n",
    "    if pt in wstr: wstr=wstr.replace(' '+pt+' ', ' ')\n",
    "  for pt in dfEquipTags.Tag:\n",
    "    if pt in wstr: wstr=wstr.replace(' '+pt+' ', ' ')\n",
    "  return wstr.strip()\n",
    "\n",
    "def getLastDim(istr):\n",
    "  if \">\"   not in istr:\n",
    "    return \"UndefinedEquipment\"\n",
    "  else:\n",
    "    sstr=istr.split(\">\")\n",
    "    return sstr[-1] # IndivName(sstr[-1])"
   ]
  },
  {
   "cell_type": "code",
   "execution_count": 20,
   "metadata": {
    "collapsed": false
   },
   "outputs": [],
   "source": [
    "removeSynonyms=False\n",
    "synonyms={}\n",
    "for r in dfTagSets.index:\n",
    "  if str(dfTagSets.hasSynonym[r])!=\"nan\":\n",
    "    syn=dfTagSets.hasSynonym[r].split(\";\")\n",
    "    for s in syn:\n",
    "      synonyms[s]=dfTagSets.TagSet[r]"
   ]
  },
  {
   "cell_type": "code",
   "execution_count": 21,
   "metadata": {
    "collapsed": false
   },
   "outputs": [],
   "source": [
    "dfTagSets[\"Measurement2\"]=dfTagSets.TagSet\n",
    "dfMM=dfTagSets.Measurement2.ravel()\n",
    "for r in range(len(dfMM)):\n",
    "  dfM=\" \"+str(dfMM[r])+\" \"\n",
    "  if str(dfTagSets.usesLocation[r])!=\"nan\":\n",
    "    for loc in str(dfTagSets.usesLocation[r]).split(\";\"):\n",
    "      dfM=dfM.replace(\" \"+loc.strip()+\" \", \" \")\n",
    "  if str(dfTagSets.usesEquipment[r])!=\"nan\":\n",
    "    for eq in str(dfTagSets.usesEquipment[r]).split(\";\"):\n",
    "      dfM=dfM.replace(\" \"+eq.strip()+\" \", \" \")\n",
    "      if removeSynonyms and eq.strip() in synonyms:\n",
    "        for s in synonyms[eq.strip()].split(' '):\n",
    "          dfM=dfM.replace(\" \"+s+\" \", \" \")\n",
    "  if str(dfTagSets.usesPoint[r])!=\"nan\":\n",
    "    dfM=dfM.replace(\" \"+str(dfTagSets.usesPoint[r])+\" \", \" \")\n",
    "  dfMM[r]=dfM.strip()\n",
    "dfTagSets[\"Measurement2\"]=dfMM"
   ]
  },
  {
   "cell_type": "code",
   "execution_count": null,
   "metadata": {
    "collapsed": false
   },
   "outputs": [],
   "source": []
  },
  {
   "cell_type": "code",
   "execution_count": 22,
   "metadata": {
    "collapsed": true
   },
   "outputs": [],
   "source": [
    "#Classify each tagset as a dimension based on their tags\n",
    "dfTagSets['Point']=dfTagSets.TagSet.apply(getPointDim)\n",
    "dfTagSets['MeasurementProperty']=dfTagSets.TagSet.apply(getMeasDim)\n",
    "dfTagSets['Location']=dfTagSets.TagSet.apply(getLocDim)\n",
    "dfTagSets['Parent']=dfTagSets.Dimension.apply(getLastDim)\n",
    "dfTagSets['Measurement']=dfTagSets.TagSet.apply(filterMeas)"
   ]
  },
  {
   "cell_type": "code",
   "execution_count": 23,
   "metadata": {
    "collapsed": false
   },
   "outputs": [],
   "source": [
    "# Classify TagSets\n",
    "dfTagSetsEquipment=dfTagSets.loc[dfTagSets.Dimension.str.startswith(\"Equipment\")]\n",
    "dfTagSetsLocation=dfTagSets.loc[dfTagSets.Dimension.str.startswith(\"Location\")]\n",
    "dfTagSetsEqLoc=dfTagSets.loc[dfTagSets.Dimension.str.startswith(\"Equipment\") | dfTagSets.Dimension.str.startswith(\"Location\")]\n",
    "dfTagSetsPoints=dfTagSets.loc[dfTagSets.Dimension.str.startswith(\"Point\")]\n",
    "dfTagSetsMeas=dfTagSets.loc[dfTagSets.Dimension.str.startswith(\"MeasurementProperty\")]"
   ]
  },
  {
   "cell_type": "code",
   "execution_count": 24,
   "metadata": {
    "collapsed": false
   },
   "outputs": [
    {
     "data": {
      "text/html": [
       "<div>\n",
       "<table border=\"1\" class=\"dataframe\">\n",
       "  <thead>\n",
       "    <tr style=\"text-align: right;\">\n",
       "      <th></th>\n",
       "      <th>Measurement</th>\n",
       "      <th>Measurement2</th>\n",
       "    </tr>\n",
       "  </thead>\n",
       "  <tbody>\n",
       "    <tr>\n",
       "      <th>164</th>\n",
       "      <td>Flow Loss</td>\n",
       "      <td>Air Flow Loss</td>\n",
       "    </tr>\n",
       "    <tr>\n",
       "      <th>165</th>\n",
       "      <td>Change</td>\n",
       "      <td>Change Filter</td>\n",
       "    </tr>\n",
       "    <tr>\n",
       "      <th>166</th>\n",
       "      <td>CO2 High</td>\n",
       "      <td>CO2 High</td>\n",
       "    </tr>\n",
       "    <tr>\n",
       "      <th>167</th>\n",
       "      <td>Communication Loss</td>\n",
       "      <td>Communication Loss</td>\n",
       "    </tr>\n",
       "    <tr>\n",
       "      <th>168</th>\n",
       "      <td>Overload</td>\n",
       "      <td>Compressor Overload</td>\n",
       "    </tr>\n",
       "    <tr>\n",
       "      <th>169</th>\n",
       "      <td>Leak</td>\n",
       "      <td>Condensate Leak</td>\n",
       "    </tr>\n",
       "    <tr>\n",
       "      <th>170</th>\n",
       "      <td>Leak</td>\n",
       "      <td>Condensate Leak</td>\n",
       "    </tr>\n",
       "    <tr>\n",
       "      <th>171</th>\n",
       "      <td>Deionised</td>\n",
       "      <td>Deionised Water</td>\n",
       "    </tr>\n",
       "    <tr>\n",
       "      <th>172</th>\n",
       "      <td>Smoke Detected</td>\n",
       "      <td>Discharge Air Smoke Detected</td>\n",
       "    </tr>\n",
       "    <tr>\n",
       "      <th>173</th>\n",
       "      <td>Temperature High</td>\n",
       "      <td>Discharge Air Temperature High Limit</td>\n",
       "    </tr>\n",
       "    <tr>\n",
       "      <th>174</th>\n",
       "      <td>Emergency Generator</td>\n",
       "      <td>Emergency Generator</td>\n",
       "    </tr>\n",
       "    <tr>\n",
       "      <th>175</th>\n",
       "      <td>Emergency Power Loss</td>\n",
       "      <td>Emergency Power Loss</td>\n",
       "    </tr>\n",
       "    <tr>\n",
       "      <th>176</th>\n",
       "      <td>Overload</td>\n",
       "      <td>Fan Overload</td>\n",
       "    </tr>\n",
       "    <tr>\n",
       "      <th>177</th>\n",
       "      <td>Fume Hood</td>\n",
       "      <td>Fume Hood</td>\n",
       "    </tr>\n",
       "    <tr>\n",
       "      <th>178</th>\n",
       "      <td>High Pressure</td>\n",
       "      <td>High Head Pressure</td>\n",
       "    </tr>\n",
       "    <tr>\n",
       "      <th>179</th>\n",
       "      <td>High Humidity</td>\n",
       "      <td>High Humidity</td>\n",
       "    </tr>\n",
       "    <tr>\n",
       "      <th>180</th>\n",
       "      <td>High Temperature</td>\n",
       "      <td>High Temperature</td>\n",
       "    </tr>\n",
       "    <tr>\n",
       "      <th>181</th>\n",
       "      <td></td>\n",
       "      <td>Hot Water Pump</td>\n",
       "    </tr>\n",
       "    <tr>\n",
       "      <th>182</th>\n",
       "      <td></td>\n",
       "      <td>Humidifier</td>\n",
       "    </tr>\n",
       "    <tr>\n",
       "      <th>183</th>\n",
       "      <td>No</td>\n",
       "      <td>Humidifier Panel No Water</td>\n",
       "    </tr>\n",
       "    <tr>\n",
       "      <th>184</th>\n",
       "      <td>Liquid Detected</td>\n",
       "      <td>Liquid Detected</td>\n",
       "    </tr>\n",
       "    <tr>\n",
       "      <th>185</th>\n",
       "      <td>Low Humidity</td>\n",
       "      <td>Low Humidity</td>\n",
       "    </tr>\n",
       "    <tr>\n",
       "      <th>186</th>\n",
       "      <td>Low Suction Pressure</td>\n",
       "      <td>Low Suction Pressure</td>\n",
       "    </tr>\n",
       "    <tr>\n",
       "      <th>187</th>\n",
       "      <td>Low Temperature</td>\n",
       "      <td>Low Temperature</td>\n",
       "    </tr>\n",
       "    <tr>\n",
       "      <th>188</th>\n",
       "      <td>Luminance</td>\n",
       "      <td>Luminance</td>\n",
       "    </tr>\n",
       "    <tr>\n",
       "      <th>189</th>\n",
       "      <td></td>\n",
       "      <td>Maintenance Required</td>\n",
       "    </tr>\n",
       "    <tr>\n",
       "      <th>190</th>\n",
       "      <td>Power Loss</td>\n",
       "      <td>Power Loss</td>\n",
       "    </tr>\n",
       "    <tr>\n",
       "      <th>191</th>\n",
       "      <td></td>\n",
       "      <td></td>\n",
       "    </tr>\n",
       "    <tr>\n",
       "      <th>192</th>\n",
       "      <td>Temperature High</td>\n",
       "      <td>Return Air Temperature High Limit</td>\n",
       "    </tr>\n",
       "    <tr>\n",
       "      <th>193</th>\n",
       "      <td>Temperature Low</td>\n",
       "      <td>Return Air Temperature Low Limit</td>\n",
       "    </tr>\n",
       "    <tr>\n",
       "      <th>...</th>\n",
       "      <td>...</td>\n",
       "      <td>...</td>\n",
       "    </tr>\n",
       "    <tr>\n",
       "      <th>683</th>\n",
       "      <td>Overridden Off</td>\n",
       "      <td>Overridden Off</td>\n",
       "    </tr>\n",
       "    <tr>\n",
       "      <th>684</th>\n",
       "      <td>Overridden On</td>\n",
       "      <td>Overridden On</td>\n",
       "    </tr>\n",
       "    <tr>\n",
       "      <th>685</th>\n",
       "      <td>Overridden Off</td>\n",
       "      <td>Exhaust Fan Overridden Off</td>\n",
       "    </tr>\n",
       "    <tr>\n",
       "      <th>686</th>\n",
       "      <td>Overridden On</td>\n",
       "      <td>Exhaust Fan Overridden On</td>\n",
       "    </tr>\n",
       "    <tr>\n",
       "      <th>687</th>\n",
       "      <td>Lead Lag</td>\n",
       "      <td>Chilled Water Pump Lead Lag</td>\n",
       "    </tr>\n",
       "    <tr>\n",
       "      <th>688</th>\n",
       "      <td>Start Stop</td>\n",
       "      <td>Exhaust Fan Start Stop</td>\n",
       "    </tr>\n",
       "    <tr>\n",
       "      <th>689</th>\n",
       "      <td>Start Stop</td>\n",
       "      <td>Fan Start Stop</td>\n",
       "    </tr>\n",
       "    <tr>\n",
       "      <th>690</th>\n",
       "      <td>Start Stop</td>\n",
       "      <td>Motor Start Stop</td>\n",
       "    </tr>\n",
       "    <tr>\n",
       "      <th>691</th>\n",
       "      <td>Start Stop</td>\n",
       "      <td>Pump Start Stop</td>\n",
       "    </tr>\n",
       "    <tr>\n",
       "      <th>692</th>\n",
       "      <td></td>\n",
       "      <td>Pump</td>\n",
       "    </tr>\n",
       "    <tr>\n",
       "      <th>693</th>\n",
       "      <td>Start Stop</td>\n",
       "      <td>Return Fan Start Stop</td>\n",
       "    </tr>\n",
       "    <tr>\n",
       "      <th>694</th>\n",
       "      <td></td>\n",
       "      <td>Run</td>\n",
       "    </tr>\n",
       "    <tr>\n",
       "      <th>695</th>\n",
       "      <td>Supply Start Stop</td>\n",
       "      <td>Supply Fan Start Stop</td>\n",
       "    </tr>\n",
       "    <tr>\n",
       "      <th>696</th>\n",
       "      <td>Start Stop</td>\n",
       "      <td>Chilled Water Pump Start Stop</td>\n",
       "    </tr>\n",
       "    <tr>\n",
       "      <th>697</th>\n",
       "      <td></td>\n",
       "      <td>Chilled Water Pump</td>\n",
       "    </tr>\n",
       "    <tr>\n",
       "      <th>698</th>\n",
       "      <td></td>\n",
       "      <td>Hot Water Pump Status</td>\n",
       "    </tr>\n",
       "    <tr>\n",
       "      <th>699</th>\n",
       "      <td>Locally On Off</td>\n",
       "      <td>Locally On Off</td>\n",
       "    </tr>\n",
       "    <tr>\n",
       "      <th>700</th>\n",
       "      <td>Remotely On Off</td>\n",
       "      <td>Remotely On Off</td>\n",
       "    </tr>\n",
       "    <tr>\n",
       "      <th>701</th>\n",
       "      <td></td>\n",
       "      <td>Heat Exchanger Valve</td>\n",
       "    </tr>\n",
       "    <tr>\n",
       "      <th>702</th>\n",
       "      <td></td>\n",
       "      <td>Steam</td>\n",
       "    </tr>\n",
       "    <tr>\n",
       "      <th>703</th>\n",
       "      <td></td>\n",
       "      <td>Discharge Air</td>\n",
       "    </tr>\n",
       "    <tr>\n",
       "      <th>704</th>\n",
       "      <td></td>\n",
       "      <td>Mixed Air</td>\n",
       "    </tr>\n",
       "    <tr>\n",
       "      <th>705</th>\n",
       "      <td></td>\n",
       "      <td>Outside Air</td>\n",
       "    </tr>\n",
       "    <tr>\n",
       "      <th>706</th>\n",
       "      <td></td>\n",
       "      <td>Return Air</td>\n",
       "    </tr>\n",
       "    <tr>\n",
       "      <th>707</th>\n",
       "      <td></td>\n",
       "      <td>Chilled Water</td>\n",
       "    </tr>\n",
       "    <tr>\n",
       "      <th>708</th>\n",
       "      <td>Deionised</td>\n",
       "      <td>Deionised Water</td>\n",
       "    </tr>\n",
       "    <tr>\n",
       "      <th>709</th>\n",
       "      <td></td>\n",
       "      <td>Hot Water</td>\n",
       "    </tr>\n",
       "    <tr>\n",
       "      <th>710</th>\n",
       "      <td>Domestic</td>\n",
       "      <td>Domestic Hot Water</td>\n",
       "    </tr>\n",
       "    <tr>\n",
       "      <th>711</th>\n",
       "      <td>High Temperature</td>\n",
       "      <td>High Temperature Hot Water</td>\n",
       "    </tr>\n",
       "    <tr>\n",
       "      <th>712</th>\n",
       "      <td>Temperature</td>\n",
       "      <td>Medium Temperature Hot Water</td>\n",
       "    </tr>\n",
       "  </tbody>\n",
       "</table>\n",
       "<p>549 rows × 2 columns</p>\n",
       "</div>"
      ],
      "text/plain": [
       "              Measurement                          Measurement2\n",
       "164             Flow Loss                         Air Flow Loss\n",
       "165                Change                         Change Filter\n",
       "166              CO2 High                              CO2 High\n",
       "167    Communication Loss                    Communication Loss\n",
       "168              Overload                   Compressor Overload\n",
       "169                  Leak                       Condensate Leak\n",
       "170                  Leak                       Condensate Leak\n",
       "171             Deionised                       Deionised Water\n",
       "172        Smoke Detected          Discharge Air Smoke Detected\n",
       "173      Temperature High  Discharge Air Temperature High Limit\n",
       "174   Emergency Generator                   Emergency Generator\n",
       "175  Emergency Power Loss                  Emergency Power Loss\n",
       "176              Overload                          Fan Overload\n",
       "177             Fume Hood                             Fume Hood\n",
       "178         High Pressure                    High Head Pressure\n",
       "179         High Humidity                         High Humidity\n",
       "180      High Temperature                      High Temperature\n",
       "181                                              Hot Water Pump\n",
       "182                                                  Humidifier\n",
       "183                    No             Humidifier Panel No Water\n",
       "184       Liquid Detected                       Liquid Detected\n",
       "185          Low Humidity                          Low Humidity\n",
       "186  Low Suction Pressure                  Low Suction Pressure\n",
       "187       Low Temperature                       Low Temperature\n",
       "188             Luminance                             Luminance\n",
       "189                                        Maintenance Required\n",
       "190            Power Loss                            Power Loss\n",
       "191                                                            \n",
       "192      Temperature High     Return Air Temperature High Limit\n",
       "193       Temperature Low      Return Air Temperature Low Limit\n",
       "..                    ...                                   ...\n",
       "683        Overridden Off                        Overridden Off\n",
       "684         Overridden On                         Overridden On\n",
       "685        Overridden Off            Exhaust Fan Overridden Off\n",
       "686         Overridden On             Exhaust Fan Overridden On\n",
       "687              Lead Lag           Chilled Water Pump Lead Lag\n",
       "688            Start Stop                Exhaust Fan Start Stop\n",
       "689            Start Stop                        Fan Start Stop\n",
       "690            Start Stop                      Motor Start Stop\n",
       "691            Start Stop                       Pump Start Stop\n",
       "692                                                        Pump\n",
       "693            Start Stop                 Return Fan Start Stop\n",
       "694                                                         Run\n",
       "695     Supply Start Stop                 Supply Fan Start Stop\n",
       "696            Start Stop         Chilled Water Pump Start Stop\n",
       "697                                          Chilled Water Pump\n",
       "698                                       Hot Water Pump Status\n",
       "699        Locally On Off                        Locally On Off\n",
       "700       Remotely On Off                       Remotely On Off\n",
       "701                                        Heat Exchanger Valve\n",
       "702                                                       Steam\n",
       "703                                               Discharge Air\n",
       "704                                                   Mixed Air\n",
       "705                                                 Outside Air\n",
       "706                                                  Return Air\n",
       "707                                               Chilled Water\n",
       "708             Deionised                       Deionised Water\n",
       "709                                                   Hot Water\n",
       "710              Domestic                    Domestic Hot Water\n",
       "711      High Temperature            High Temperature Hot Water\n",
       "712           Temperature          Medium Temperature Hot Water\n",
       "\n",
       "[549 rows x 2 columns]"
      ]
     },
     "execution_count": 24,
     "metadata": {},
     "output_type": "execute_result"
    }
   ],
   "source": [
    "dfTagSetsPoints.loc[:,('Measurement','Measurement2')]"
   ]
  },
  {
   "cell_type": "code",
   "execution_count": 25,
   "metadata": {
    "collapsed": false
   },
   "outputs": [],
   "source": [
    "#pd.unique(dfPointTagSets['Measurement2'].ravel())"
   ]
  },
  {
   "cell_type": "code",
   "execution_count": 26,
   "metadata": {
    "collapsed": false
   },
   "outputs": [],
   "source": [
    "# Missing tags\n",
    "for dim in [\"Location\", \"Equipment\", \"Point\", \"MeasurementProperty\"]:\n",
    "  usedTags=set([t for i in dfTagSets.loc[dfTagSets.Dimension.str.startswith(dim)].TagSet.str.split(' ') for t in i])\n",
    "  defTags =set(dfTags.loc[dfTags.Dimension.str.startswith(dim)].Tag)\n",
    "  #print(\"Missing Tags for \"+dim+\"\\n\"+str(usedTags-defTags)+\"\\n\")"
   ]
  },
  {
   "cell_type": "code",
   "execution_count": 27,
   "metadata": {
    "collapsed": false
   },
   "outputs": [],
   "source": [
    "defMeasTagSets=set(dfTagSetsMeas.TagSet)\n",
    "usedMeasTagSets=set(dfTagSetsPoints.Measurement)\n",
    "#print(\"Used TagSets for Measurement\\n\"+str(defMeasTagSets-(defMeasTagSets-usedMeasTagSets))+\"\\n\")\n",
    "#print(\"Unused TagSets for Measurement\\n\"+str(defMeasTagSets-usedMeasTagSets)+\"\\n\")\n",
    "#print(\"Missing TagSets for Measurement\\n\"+str(usedMeasTagSets-defMeasTagSets)+\"\\n\")\n",
    "#usedMeasTagSets=set(dfTagSetsPoints.Measurement2)\n",
    "#print(\"Used TagSets for Measurement\\n\"+str(defMeasTagSets-(defMeasTagSets-usedMeasTagSets))+\"\\n\")\n",
    "#print(\"Unused TagSets for Measurement2\\n\"+str(defMeasTagSets-usedMeasTagSets)+\"\\n\")\n",
    "#print(\"Missing TagSets for Measurement2\\n\"+str(usedMeasTagSets-defMeasTagSets)+\"\\n\")"
   ]
  },
  {
   "cell_type": "code",
   "execution_count": 28,
   "metadata": {
    "collapsed": false
   },
   "outputs": [],
   "source": [
    "createEquipmentTagSets=True\n",
    "setEquivalent=False\n",
    "usedMeasOnly=True\n",
    "writeUsedBy=True"
   ]
  },
  {
   "cell_type": "code",
   "execution_count": 29,
   "metadata": {
    "collapsed": false
   },
   "outputs": [],
   "source": [
    "tagsetsPoints={}\n",
    "for r in dfTagSetsPoints.index:\n",
    "  if createEquipmentTagSets and dfTagSetsPoints.usesEquipment[r]!='' and str(dfTagSetsPoints.usesEquipment[r])!=\"nan\":\n",
    "    equip=[s.strip() for s in dfTagSetsPoints.usesEquipment[r].split(';')]\n",
    "    equip.append(\"\")\n",
    "  else: equip=[\"\"]\n",
    "  tagsets=set([dfTagSetsPoints.TagSet[r]])  | set(str(dfTagSetsPoints.hasSynonym[r]).split(\",\")) - set(['', 'nan'])\n",
    "  for tagset in tagsets:\n",
    "   for eq in equip:\n",
    "    if eq!=\"\" and eq not in tagset:\n",
    "      ts=eq.replace(\" \", \"_\") + \" \" + tagset\n",
    "    else:\n",
    "      ts=tagset\n",
    "    if ts not in tagsetsPoints:\n",
    "      tagsetsPoints[ts]={\n",
    "        'TagSet':ts,\n",
    "        'Tags':set(ts.split(' ')),\n",
    "        'usesPoint':dfTagSetsPoints.usesPoint[r],\n",
    "        'usesLocation':dfTagSetsPoints.usesLocation[r],\n",
    "        'usesEquipment':dfTagSetsPoints.usesEquipment[r],\n",
    "        'usesMeasurement':dfTagSetsPoints.usesMeasurement[r],\n",
    "        'description':dfTagSetsPoints.Definition[r],\n",
    "        'dimension':dfTagSetsPoints.Dimension[r],\n",
    "        'synonyms':tagsets-set([ts]),\n",
    "        'parent':dfTagSetsPoints.Parent[r],\n",
    "        'parents':set([dfTagSetsPoints.Parent[r].replace('_',' ')]),\n",
    "        'allparents':set([dfTagSetsPoints.Parent[r].replace('_',' ')]),\n",
    "        'measurement':dfTagSetsPoints.Measurement[r],\n",
    "        'measurement2':dfTagSetsPoints.Measurement2[r]\n",
    "      }\n",
    "      if createEquipmentTagSets: \n",
    "         tagsetsPoints[ts]['usesEquipment']=eq\n",
    "      if eq!=\"\" and len(tagsets-set([ts]))>0:  \n",
    "        tagsetsPoints[ts]['synonyms']= [(eq.replace(\" \", \"_\") + \" \" + ts2) for ts2 in (tagsets-set([ts])) if eq not in ts2]\n",
    "      dfM=\" \"+tagset+\" \"\n",
    "      if str(dfTagSets.usesLocation[r])!=\"nan\":\n",
    "        for loc in str(dfTagSets.usesLocation[r]).split(\";\"):\n",
    "          dfM=dfM.replace(\" \"+loc.strip()+\" \", \" \")\n",
    "      if str(dfTagSets.usesEquipment[r])!=\"nan\":\n",
    "        for eq in str(dfTagSets.usesEquipment[r]).split(\";\"):\n",
    "          dfM=dfM.replace(\" \"+eq.strip()+\" \", \" \")\n",
    "          dfM=dfM.replace(\" \"+eq.replace(\" \", \"_\").strip()+\" \", \" \")\n",
    "          if removeSynonyms and eq.strip() in synonyms:\n",
    "            for s in synonyms[eq.strip()].split(' '):\n",
    "              dfM=dfM.replace(\" \"+s+\" \", \" \")\n",
    "      if str(dfTagSets.usesPoint[r])!=\"nan\":\n",
    "        dfM=dfM.replace(\" \"+str(dfTagSets.usesPoint[r])+\" \", \" \")\n",
    "      tagsetsPoints[ts]['measurement2']=dfM.strip()\n",
    "if '' in tagsetsPoints: del tagsetsPoints['']"
   ]
  },
  {
   "cell_type": "code",
   "execution_count": 30,
   "metadata": {
    "collapsed": false
   },
   "outputs": [],
   "source": [
    "# determine parent concepts\n",
    "for tsA in tagsetsPoints:\n",
    "  for tsB in tagsetsPoints:\n",
    "    if tagsetsPoints[tsB]['Tags'] < tagsetsPoints[tsA]['Tags']:\n",
    "      tagsetsPoints[tsA]['allparents'].add(tsB)\n",
    "      tagsetsPoints[tsA]['parents'].add(tsB)"
   ]
  },
  {
   "cell_type": "code",
   "execution_count": 31,
   "metadata": {
    "collapsed": false
   },
   "outputs": [],
   "source": [
    "# minimize parent concepts\n",
    "for tsA in tagsetsPoints:\n",
    "  rmOldParent=set()\n",
    "  for tsB in tagsetsPoints[tsA]['parents']:\n",
    "    for tsC in tagsetsPoints[tsA]['parents']:\n",
    "       if set(tsB.split(' ')) > set(tsC.split(' ')): # if direct parent\n",
    "        rmOldParent.add(tsC)\n",
    "  for tsC in rmOldParent:\n",
    "    tagsetsPoints[tsA]['parents'].remove(tsC)\n",
    "    #print(\"Remove \"+tsC)    "
   ]
  },
  {
   "cell_type": "code",
   "execution_count": 32,
   "metadata": {
    "collapsed": false
   },
   "outputs": [],
   "source": [
    "tagsetsMeas={}\n",
    "if not usedMeasOnly:\n",
    " for r in dfTagSetsMeas.index:\n",
    "  tagsetsMeas[dfTagSetsMeas.TagSet[r]]={\n",
    "    'TagSet':dfTagSetsMeas.TagSet[r],\n",
    "    'Tags':set(dfTagSetsMeas.TagSet[r].split(' ')),\n",
    "    'dimension':dfTagSetsMeas.Dimension[r],\n",
    "    'measdim':getMeasDim(dfTagSetsMeas.TagSet[r]),\n",
    "    'description':dfTagSetsMeas.Definition[r],\n",
    "    'parent':dfTagSetsMeas.Parent[r],\n",
    "    'parents':set([getMeasDim(dfTagSetsMeas.TagSet[r])]),\n",
    "    'allparents':set([getMeasDim(dfTagSetsMeas.TagSet[r])])\n",
    "  }\n",
    "# add missing\n",
    "meas=[tagsetsPoints[ts]['measurement2'] for ts in tagsetsPoints]\n",
    "for ts in pd.unique(meas):\n",
    "  tagsetsMeas[ts]={\n",
    "    'TagSet':ts,\n",
    "    'Tags':set(ts.split(' ')),\n",
    "    'dimension':'MeasurementProperty',\n",
    "    'measdim':getMeasDim(ts),\n",
    "    'description':'',\n",
    "    'parent':'',\n",
    "    'parents':set([getMeasDim(ts)]),\n",
    "    'allparents':set([getMeasDim(ts)])\n",
    "  }\n",
    "for ts in set(dfMeasTags.Tag)|set(['UndefinedMeasurement']):\n",
    "  tagsetsMeas[ts]={\n",
    "    'TagSet':ts,\n",
    "    'Tags':set([ts]),\n",
    "    'dimension':'MeasurementProperty',\n",
    "    'measdim':'MeasurementProperty',\n",
    "    'description':'',\n",
    "    'parent':'',\n",
    "    'parents':set(['MeasurementProperty']),\n",
    "    'allparents':set(['MeasurementProperty'])\n",
    "  }\n",
    "    \n",
    "if '' in tagsetsMeas: del tagsetsMeas['']"
   ]
  },
  {
   "cell_type": "code",
   "execution_count": null,
   "metadata": {
    "collapsed": false
   },
   "outputs": [],
   "source": []
  },
  {
   "cell_type": "code",
   "execution_count": 33,
   "metadata": {
    "collapsed": false
   },
   "outputs": [],
   "source": [
    "# determine parent concepts\n",
    "for tsA in tagsetsMeas:\n",
    "  for tsB in tagsetsMeas:\n",
    "    if tagsetsMeas[tsB]['Tags'] < tagsetsMeas[tsA]['Tags']:\n",
    "      tagsetsMeas[tsA]['allparents'].add(tsB)\n",
    "      tagsetsMeas[tsA]['parents'].add(tsB)"
   ]
  },
  {
   "cell_type": "code",
   "execution_count": 34,
   "metadata": {
    "collapsed": false
   },
   "outputs": [],
   "source": [
    "# minimize parent concepts\n",
    "for tsA in tagsetsMeas:\n",
    "  rmOldParent=set()\n",
    "  for tsB in tagsetsMeas[tsA]['parents']:\n",
    "    for tsC in tagsetsMeas[tsA]['parents']:\n",
    "      #if tagsetsMeas[tsB]['Tags'] > tagsetsMeas[tsC]['Tags']: # if direct parent\n",
    "      if set(tsB.split(' ')) > set(tsC.split(' ')): # if direct parent\n",
    "        rmOldParent.add(tsC)\n",
    "  for tsC in rmOldParent:\n",
    "    tagsetsMeas[tsA]['parents'].remove(tsC)\n",
    "    #print(\"Remove \"+tsC)  "
   ]
  },
  {
   "cell_type": "code",
   "execution_count": null,
   "metadata": {
    "collapsed": false
   },
   "outputs": [],
   "source": []
  },
  {
   "cell_type": "code",
   "execution_count": null,
   "metadata": {
    "collapsed": false
   },
   "outputs": [],
   "source": []
  },
  {
   "cell_type": "code",
   "execution_count": 35,
   "metadata": {
    "collapsed": false
   },
   "outputs": [
    {
     "data": {
      "text/plain": [
       "47"
      ]
     },
     "execution_count": 35,
     "metadata": {},
     "output_type": "execute_result"
    }
   ],
   "source": [
    "nsTag= \"tag:\" # \"ts:\"\n",
    "nsTagSet= \":\" # \"ts:\"\n",
    "fo = open('Brick.ttl', 'w')\n",
    "fo.write(\"\"\"@prefix owl: <http://www.w3.org/2002/07/owl#> .\n",
    "@prefix rdf: <http://www.w3.org/1999/02/22-rdf-syntax-ns#> .\n",
    "@prefix rdfs: <http://www.w3.org/2000/01/rdf-schema#> .\n",
    "@prefix skos: <http://www.w3.org/2004/02/skos/core#> .\\n\"\"\")\n",
    "fo.write(\"@prefix bf:  <http://buildsys.org/ontologies/BrickFrame#> .\\n\")\n",
    "fo.write(\"@prefix tag: <http://buildsys.org/ontologies/BrickTag#> .\\n\")\n",
    "fo.write(\"@prefix :    <http://buildsys.org/ontologies/Brick#> .\\n\\n\")\n",
    "fo.write(\"<http://buildsys.org/ontologies/Brick>  a owl:Ontology ;\\n\")\n",
    "fo.write(\"\\towl:imports <http://buildsys.org/ontologies/BrickFrame> ;\\n\")\n",
    "fo.write(\"\\towl:imports <http://buildsys.org/ontologies/BrickTag> ;\\n\")\n",
    "fo.write('\\trdfs:comment \"Domain TagSet Definition\"@en .\\n\\n')"
   ]
  },
  {
   "cell_type": "code",
   "execution_count": 36,
   "metadata": {
    "collapsed": false
   },
   "outputs": [],
   "source": [
    "brickTagSets={}\n",
    "for hir in pd.unique(dfTagSets.Dimension.dropna().ravel()):\n",
    "  tags=hir.split('>')\n",
    "  atags=\"\"\n",
    "  for i in range(len(tags)):\n",
    "    tag=tags[i]\n",
    "    otags=atags\n",
    "    #Joern's definition of atags (i.e. class names)\n",
    "    #atags=(atags+\"_\"+tag).strip('_')\n",
    "    #Bharath's definition of class names (atags)\n",
    "    atags=tag.strip('_')\n",
    "    if atags not in brickTagSets:\n",
    "      indivLocName=nsTagSet + IndivName(atags)\n",
    "      if i>0:\n",
    "        fo.write(\"\\n \"+indivLocName+\"  rdfs:subClassOf   \"+brickTagSets[otags]+\";\")\n",
    "      else:\n",
    "        fo.write(\"\\n \"+indivLocName+\"  rdfs:subClassOf   bf:TagSet;\")\n",
    "      fo.write('\\n\\t\\t\\t rdf:type   owl:Class ;')\n",
    "      #fo.write('\\n\\t\\t\\t bf:isHierarchical  \"\";')\n",
    "      fo.write('\\n\\t\\t\\t rdfs:label \"'+tag+'\"@en .\\n')\n",
    "      brickTagSets[atags]=indivLocName;"
   ]
  },
  {
   "cell_type": "markdown",
   "metadata": {},
   "source": [
    "Add TagSets leaves"
   ]
  },
  {
   "cell_type": "code",
   "execution_count": 37,
   "metadata": {
    "collapsed": false
   },
   "outputs": [],
   "source": [
    "# create location individuals\n",
    "for idx in dfTagSetsEqLoc.index:\n",
    "  tagsets=set([str(dfTagSetsEqLoc.loc[idx, \"TagSet\"])]) | set(str(dfTagSetsEqLoc.loc[idx, \"hasSynonym\"]).split(\",\"))\n",
    "  ots=None\n",
    "  for tagset in tagsets:\n",
    "    if tagset!=\"nan\":\n",
    "      parent= brickTagSets[str(dfTagSetsEqLoc.loc[idx, \"Dimension\"]).split('>')[-1]]\n",
    "      indivLocName=nsTagSet + IndivName(tagset)\n",
    "      fo.write(\"\\n \"+indivLocName+\"  rdfs:subClassOf   \"+parent+\";\")\n",
    "      fo.write('\\n\\t\\t\\t rdf:type   owl:Class ;')\n",
    "      if ots:\n",
    "        fo.write('\\n\\t\\t\\t owl:equivalentClass '+ots+';')\n",
    "      fo.write('\\n\\t\\t\\t rdfs:label \"'+str(dfTagSetsEqLoc.loc[idx, \"TagSet\"])+'\"@en.\\n')\n",
    "      for tag in tagset.split():\n",
    "        fo.write('\\n '+indivLocName+'  bf:usesTag tag:'+tag+'.')\n",
    "        if writeUsedBy: fo.write('\\n tag:'+tag+'  bf:usedBy '+indivLocName+'.')\n",
    "      brickTagSets[tagset]=indivLocName;\n",
    "      ots=indivLocName;"
   ]
  },
  {
   "cell_type": "code",
   "execution_count": 38,
   "metadata": {
    "collapsed": false
   },
   "outputs": [],
   "source": [
    "# write measurement tagsets\n",
    "for tsA in tagsetsMeas:\n",
    "  ts=tagsetsMeas[tsA]\n",
    "  indivLocName=nsTagSet + IndivName(ts['TagSet'])\n",
    "  supClass=\"\"#\"bf:TagSet\"# + nsTagSet + IndivName(ts['measdim'])\n",
    "  for par in ts['parents']:\n",
    "    supClass = supClass + \", \" + nsTagSet + IndivName(par)\n",
    "  fo.write(\"\\n \"+indivLocName+\"  rdfs:subClassOf   \"+supClass.strip(',').strip()+\";\")\n",
    "  fo.write('\\n\\t\\t\\t rdf:type   owl:Class ;')\n",
    "  if ts['description']!='' and str(ts['description'])!=\"nan\":\n",
    "    #fo.write('\\n\\t\\t\\t rdfs:description \"'+ts['description']+'\"@en;')\n",
    "    fo.write('\\n\\t\\t\\t skos:definition \"'+ts['description']+'\"@en ;\\n')\n",
    "  fo.write('\\n\\t\\t\\t rdfs:label \"'+ts['TagSet']+'\"@en .\\n')\n",
    "  for tag in ts['Tags']:\n",
    "    fo.write('\\n '+indivLocName+'  bf:usesTag tag:'+tag+'.')\n",
    "    if writeUsedBy: fo.write('\\n tag:'+tag+'  bf:usedBy '+indivLocName+'.')"
   ]
  },
  {
   "cell_type": "code",
   "execution_count": 39,
   "metadata": {
    "collapsed": false
   },
   "outputs": [],
   "source": [
    "#Write point tagsets\n",
    "for tsA in tagsetsPoints:\n",
    "  ts=tagsetsPoints[tsA]\n",
    "  if not ts['parents']:\n",
    "    print(ts)\n",
    "    continue;\n",
    "  tagsets=set([ts['TagSet']])#  | set(str(ts[\"synonyms\"]).split(\",\")) - set(['', 'nan'])\n",
    "  ots=None\n",
    "  for tagset in tagsets:\n",
    "    tagset=tagset.strip()\n",
    "    indivLocName=nsTagSet + IndivName(tagset)\n",
    "    brickTagSets[tagset]=indivLocName;\n",
    "    supClass= \"\" #\"bf:TagSet, \"\n",
    "    for par in ts['parents']:\n",
    "      supClass = supClass + \", \" + nsTagSet + IndivName(par)\n",
    "    fo.write(\"\\n \"+indivLocName+\"  rdfs:subClassOf   \"+supClass.strip(',').strip()+\";\")\n",
    "    fo.write('\\n\\t\\t\\t rdf:type   owl:Class ;')\n",
    "    if ts['synonyms']!='' and str(ts['synonyms'])!=\"nan\":\n",
    "      for syn in ts['synonyms']:\n",
    "        if setEquivalent:\n",
    "          fo.write('\\n\\t\\t\\t owl:equivalentClass '+nsTagSet + IndivName(syn)+';')\n",
    "        else:\n",
    "          fo.write('\\n\\t\\t\\t bf:equivalentTagSet '+nsTagSet + IndivName(syn)+';')\n",
    "    ots=indivLocName;\n",
    "    if ts['description']!='' and str(ts['description'])!=\"nan\":\n",
    "      #fo.write('\\n\\t\\t\\t rdfs:description \"'+ts['description'].replace('\"',\"'\")+'\"@en;')\n",
    "      fo.write('\\n\\t\\t\\t skos:definition \"'+ts['description'].replace('\"',\"'\")+'\"@en;')\n",
    "    fo.write('\\n\\t\\t\\t rdfs:label \"'+ts['TagSet']+'\"@en .\\n')\n",
    "    for tag in ts['Tags']:\n",
    "      fo.write('\\n '+indivLocName+'  bf:usesTag tag:'+tag+'.')\n",
    "      if writeUsedBy: fo.write('\\n tag:'+tag+'  bf:usedBy '+indivLocName+'.')\n",
    "    if ts['usesLocation']!='' and str(ts['usesLocation'])!=\"nan\":\n",
    "      for loc in ts['usesLocation'].split(';'):\n",
    "        fo.write('\\n '+indivLocName+' bf:usesLocation :'+IndivName(loc.strip())+'.')\n",
    "        if writeUsedBy: fo.write('\\n :'+IndivName(loc.strip())+'  bf:usedBy '+indivLocName+'.')\n",
    "    if ts['usesEquipment']!='' and str(ts['usesEquipment'])!=\"nan\":\n",
    "      for eq in ts['usesEquipment'].split(';'):\n",
    "        fo.write('\\n '+indivLocName+' bf:usesEquipment :'+IndivName(eq.strip())+'.')\n",
    "        if writeUsedBy: fo.write('\\n :'+IndivName(eq.strip())+'  bf:usedBy '+indivLocName+'.')\n",
    "    if ts['usesPoint']!='' and str(ts['usesPoint'])!=\"nan\":\n",
    "      fo.write('\\n '+indivLocName+' bf:usesPoint :'+IndivName(ts['usesPoint'])+'.')\n",
    "      if writeUsedBy: fo.write('\\n :'+IndivName(ts['usesPoint'])+'  bf:usedBy '+indivLocName+'.')\n",
    "    if ts['measurement2']!='' and str(ts['measurement2'])!=\"nan\":\n",
    "      fo.write('\\n '+indivLocName+' bf:usesMeasurement :'+IndivName(ts['measurement2'])+'.')\n",
    "      if writeUsedBy: fo.write('\\n :'+IndivName(ts['measurement2'])+'  bf:usedBy '+indivLocName+'.')\n",
    "    ots=indivLocName;"
   ]
  },
  {
   "cell_type": "code",
   "execution_count": 40,
   "metadata": {
    "collapsed": true
   },
   "outputs": [],
   "source": [
    "fo.write('\\n')\n",
    "fo.close()"
   ]
  },
  {
   "cell_type": "code",
   "execution_count": 41,
   "metadata": {
    "collapsed": false
   },
   "outputs": [],
   "source": [
    "# format\n",
    "g = rdflib.Graph()\n",
    "result = g.parse('Brick.ttl', format='n3')"
   ]
  },
  {
   "cell_type": "code",
   "execution_count": 42,
   "metadata": {
    "collapsed": true
   },
   "outputs": [],
   "source": [
    "g.serialize(destination='Brick.ttl', format='turtle')"
   ]
  },
  {
   "cell_type": "code",
   "execution_count": 43,
   "metadata": {
    "collapsed": false
   },
   "outputs": [
    {
     "data": {
      "text/plain": [
       "2056"
      ]
     },
     "execution_count": 43,
     "metadata": {},
     "output_type": "execute_result"
    }
   ],
   "source": [
    "qres = g.query(\"\"\"SELECT DISTINCT ?ts WHERE {  ?ts rdfs:subClassOf+ bf:TagSet . }\"\"\")\n",
    "brickTagSets=set()\n",
    "brickTagSetTags={}\n",
    "for row in qres:\n",
    "  ts=ns(row['ts'])\n",
    "  brickTagSets.add(ts)\n",
    "  brickTagSetTags[ts]=set(ts.split('_'))\n",
    "len(brickTagSets)"
   ]
  },
  {
   "cell_type": "code",
   "execution_count": 44,
   "metadata": {
    "collapsed": false
   },
   "outputs": [],
   "source": [
    "ex=pd.ExcelWriter('src/Schema EngineeringMod.xlsx')\n",
    "dfTagSetsEquipment.to_excel(ex,\"Equipment\",index=False)\n",
    "dfTagSetsLocation.to_excel(ex,\"Location\",index=False)\n",
    "dfTagSetsPoints.to_excel(ex,\"Point\",index=False)\n",
    "ex.save()"
   ]
  },
  {
   "cell_type": "code",
   "execution_count": null,
   "metadata": {
    "collapsed": true
   },
   "outputs": [],
   "source": []
  }
 ],
 "metadata": {
  "anaconda-cloud": {},
  "kernelspec": {
   "display_name": "Python 3",
   "language": "python",
   "name": "python3"
  },
  "language_info": {
   "codemirror_mode": {
    "name": "ipython",
    "version": 3
   },
   "file_extension": ".py",
   "mimetype": "text/x-python",
   "name": "python",
   "nbconvert_exporter": "python",
   "pygments_lexer": "ipython3",
   "version": "3.5.2"
  }
 },
 "nbformat": 4,
 "nbformat_minor": 0
}
